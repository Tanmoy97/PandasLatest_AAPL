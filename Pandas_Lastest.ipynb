{
  "nbformat": 4,
  "nbformat_minor": 0,
  "metadata": {
    "colab": {
      "name": " Pandas-Lastest.ipynb",
      "provenance": []
    },
    "kernelspec": {
      "name": "python3",
      "display_name": "Python 3"
    }
  },
  "cells": [
    {
      "cell_type": "markdown",
      "metadata": {
        "id": "uncHnqySiPbs",
        "colab_type": "text"
      },
      "source": [
        "Today's Topic Data Frame - using Pandas"
      ]
    },
    {
      "cell_type": "code",
      "metadata": {
        "id": "VtN4V9bOiNZL",
        "colab_type": "code",
        "colab": {
          "resources": {
            "http://localhost:8080/nbextensions/google.colab/files.js": {
              "data": "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",
              "ok": true,
              "headers": [
                [
                  "content-type",
                  "application/javascript"
                ]
              ],
              "status": 200,
              "status_text": ""
            }
          },
          "base_uri": "https://localhost:8080/",
          "height": 74
        },
        "outputId": "33c839d3-5115-43b6-ece3-b94064a5e5e8"
      },
      "source": [
        "from google.colab import files\n",
        "uploaded = files.upload()"
      ],
      "execution_count": null,
      "outputs": [
        {
          "output_type": "display_data",
          "data": {
            "text/html": [
              "\n",
              "     <input type=\"file\" id=\"files-af62a29d-de3b-42ec-af53-258199f59a39\" name=\"files[]\" multiple disabled />\n",
              "     <output id=\"result-af62a29d-de3b-42ec-af53-258199f59a39\">\n",
              "      Upload widget is only available when the cell has been executed in the\n",
              "      current browser session. Please rerun this cell to enable.\n",
              "      </output>\n",
              "      <script src=\"/nbextensions/google.colab/files.js\"></script> "
            ],
            "text/plain": [
              "<IPython.core.display.HTML object>"
            ]
          },
          "metadata": {
            "tags": []
          }
        },
        {
          "output_type": "stream",
          "text": [
            "Saving AAPL.csv to AAPL.csv\n"
          ],
          "name": "stdout"
        }
      ]
    },
    {
      "cell_type": "code",
      "metadata": {
        "id": "-jekeRQCjDSW",
        "colab_type": "code",
        "colab": {}
      },
      "source": [
        "import pandas as pd "
      ],
      "execution_count": null,
      "outputs": []
    },
    {
      "cell_type": "code",
      "metadata": {
        "id": "2_PBc-3Dj7kI",
        "colab_type": "code",
        "colab": {}
      },
      "source": [
        "APPL=pd.read_csv('AAPL.csv')"
      ],
      "execution_count": null,
      "outputs": []
    },
    {
      "cell_type": "code",
      "metadata": {
        "id": "9VobB5XJkBeJ",
        "colab_type": "code",
        "colab": {
          "base_uri": "https://localhost:8080/",
          "height": 402
        },
        "outputId": "8e11b4f1-28ba-4135-c927-bc416e4c45dd"
      },
      "source": [
        "APPL"
      ],
      "execution_count": null,
      "outputs": [
        {
          "output_type": "execute_result",
          "data": {
            "text/html": [
              "<div>\n",
              "<style scoped>\n",
              "    .dataframe tbody tr th:only-of-type {\n",
              "        vertical-align: middle;\n",
              "    }\n",
              "\n",
              "    .dataframe tbody tr th {\n",
              "        vertical-align: top;\n",
              "    }\n",
              "\n",
              "    .dataframe thead th {\n",
              "        text-align: right;\n",
              "    }\n",
              "</style>\n",
              "<table border=\"1\" class=\"dataframe\">\n",
              "  <thead>\n",
              "    <tr style=\"text-align: right;\">\n",
              "      <th></th>\n",
              "      <th>Date</th>\n",
              "      <th>Open</th>\n",
              "      <th>High</th>\n",
              "      <th>Low</th>\n",
              "      <th>Close</th>\n",
              "      <th>Adj Close</th>\n",
              "      <th>Volume</th>\n",
              "    </tr>\n",
              "  </thead>\n",
              "  <tbody>\n",
              "    <tr>\n",
              "      <th>0</th>\n",
              "      <td>2019-04-29</td>\n",
              "      <td>204.399994</td>\n",
              "      <td>205.970001</td>\n",
              "      <td>203.860001</td>\n",
              "      <td>204.610001</td>\n",
              "      <td>201.966461</td>\n",
              "      <td>22204700</td>\n",
              "    </tr>\n",
              "    <tr>\n",
              "      <th>1</th>\n",
              "      <td>2019-04-30</td>\n",
              "      <td>203.059998</td>\n",
              "      <td>203.399994</td>\n",
              "      <td>199.110001</td>\n",
              "      <td>200.669998</td>\n",
              "      <td>198.077362</td>\n",
              "      <td>46534900</td>\n",
              "    </tr>\n",
              "    <tr>\n",
              "      <th>2</th>\n",
              "      <td>2019-05-01</td>\n",
              "      <td>209.880005</td>\n",
              "      <td>215.309998</td>\n",
              "      <td>209.229996</td>\n",
              "      <td>210.520004</td>\n",
              "      <td>207.800110</td>\n",
              "      <td>64827300</td>\n",
              "    </tr>\n",
              "    <tr>\n",
              "      <th>3</th>\n",
              "      <td>2019-05-02</td>\n",
              "      <td>209.839996</td>\n",
              "      <td>212.649994</td>\n",
              "      <td>208.130005</td>\n",
              "      <td>209.149994</td>\n",
              "      <td>206.447800</td>\n",
              "      <td>31996300</td>\n",
              "    </tr>\n",
              "    <tr>\n",
              "      <th>4</th>\n",
              "      <td>2019-05-03</td>\n",
              "      <td>210.889999</td>\n",
              "      <td>211.839996</td>\n",
              "      <td>210.229996</td>\n",
              "      <td>211.750000</td>\n",
              "      <td>209.014221</td>\n",
              "      <td>20892400</td>\n",
              "    </tr>\n",
              "    <tr>\n",
              "      <th>...</th>\n",
              "      <td>...</td>\n",
              "      <td>...</td>\n",
              "      <td>...</td>\n",
              "      <td>...</td>\n",
              "      <td>...</td>\n",
              "      <td>...</td>\n",
              "      <td>...</td>\n",
              "    </tr>\n",
              "    <tr>\n",
              "      <th>248</th>\n",
              "      <td>2020-04-22</td>\n",
              "      <td>273.609985</td>\n",
              "      <td>277.899994</td>\n",
              "      <td>272.200012</td>\n",
              "      <td>276.100006</td>\n",
              "      <td>276.100006</td>\n",
              "      <td>29264300</td>\n",
              "    </tr>\n",
              "    <tr>\n",
              "      <th>249</th>\n",
              "      <td>2020-04-23</td>\n",
              "      <td>275.869995</td>\n",
              "      <td>281.750000</td>\n",
              "      <td>274.869995</td>\n",
              "      <td>275.029999</td>\n",
              "      <td>275.029999</td>\n",
              "      <td>31203600</td>\n",
              "    </tr>\n",
              "    <tr>\n",
              "      <th>250</th>\n",
              "      <td>2020-04-24</td>\n",
              "      <td>277.200012</td>\n",
              "      <td>283.010010</td>\n",
              "      <td>277.000000</td>\n",
              "      <td>282.970001</td>\n",
              "      <td>282.970001</td>\n",
              "      <td>31627200</td>\n",
              "    </tr>\n",
              "    <tr>\n",
              "      <th>251</th>\n",
              "      <td>2020-04-27</td>\n",
              "      <td>281.799988</td>\n",
              "      <td>284.540009</td>\n",
              "      <td>279.950012</td>\n",
              "      <td>283.170013</td>\n",
              "      <td>283.170013</td>\n",
              "      <td>29236400</td>\n",
              "    </tr>\n",
              "    <tr>\n",
              "      <th>252</th>\n",
              "      <td>2020-04-28</td>\n",
              "      <td>285.079987</td>\n",
              "      <td>285.829987</td>\n",
              "      <td>279.330994</td>\n",
              "      <td>280.049988</td>\n",
              "      <td>280.049988</td>\n",
              "      <td>22660547</td>\n",
              "    </tr>\n",
              "  </tbody>\n",
              "</table>\n",
              "<p>253 rows × 7 columns</p>\n",
              "</div>"
            ],
            "text/plain": [
              "           Date        Open        High  ...       Close   Adj Close    Volume\n",
              "0    2019-04-29  204.399994  205.970001  ...  204.610001  201.966461  22204700\n",
              "1    2019-04-30  203.059998  203.399994  ...  200.669998  198.077362  46534900\n",
              "2    2019-05-01  209.880005  215.309998  ...  210.520004  207.800110  64827300\n",
              "3    2019-05-02  209.839996  212.649994  ...  209.149994  206.447800  31996300\n",
              "4    2019-05-03  210.889999  211.839996  ...  211.750000  209.014221  20892400\n",
              "..          ...         ...         ...  ...         ...         ...       ...\n",
              "248  2020-04-22  273.609985  277.899994  ...  276.100006  276.100006  29264300\n",
              "249  2020-04-23  275.869995  281.750000  ...  275.029999  275.029999  31203600\n",
              "250  2020-04-24  277.200012  283.010010  ...  282.970001  282.970001  31627200\n",
              "251  2020-04-27  281.799988  284.540009  ...  283.170013  283.170013  29236400\n",
              "252  2020-04-28  285.079987  285.829987  ...  280.049988  280.049988  22660547\n",
              "\n",
              "[253 rows x 7 columns]"
            ]
          },
          "metadata": {
            "tags": []
          },
          "execution_count": 5
        }
      ]
    },
    {
      "cell_type": "markdown",
      "metadata": {
        "id": "kgwcR5XLkKbN",
        "colab_type": "text"
      },
      "source": [
        "Task 1: Indexes & Columns"
      ]
    },
    {
      "cell_type": "code",
      "metadata": {
        "id": "Rm2u145kkCUN",
        "colab_type": "code",
        "colab": {
          "base_uri": "https://localhost:8080/",
          "height": 34
        },
        "outputId": "68679145-8e38-42d7-803e-6262dd1d3515"
      },
      "source": [
        "APPL.shape # How Many Rows & Columns"
      ],
      "execution_count": null,
      "outputs": [
        {
          "output_type": "execute_result",
          "data": {
            "text/plain": [
              "(253, 7)"
            ]
          },
          "metadata": {
            "tags": []
          },
          "execution_count": 7
        }
      ]
    },
    {
      "cell_type": "code",
      "metadata": {
        "id": "Z01a4t4fkWet",
        "colab_type": "code",
        "colab": {
          "base_uri": "https://localhost:8080/",
          "height": 34
        },
        "outputId": "4cd612f8-20bd-435a-be68-1362a31dc522"
      },
      "source": [
        "APPL.columns"
      ],
      "execution_count": null,
      "outputs": [
        {
          "output_type": "execute_result",
          "data": {
            "text/plain": [
              "Index(['Date', 'Open', 'High', 'Low', 'Close', 'Adj Close', 'Volume'], dtype='object')"
            ]
          },
          "metadata": {
            "tags": []
          },
          "execution_count": 8
        }
      ]
    },
    {
      "cell_type": "code",
      "metadata": {
        "id": "17Z8bWHWkpyc",
        "colab_type": "code",
        "colab": {
          "base_uri": "https://localhost:8080/",
          "height": 34
        },
        "outputId": "152b8c89-b7a3-44f8-8a30-264215092c42"
      },
      "source": [
        "APPL.index"
      ],
      "execution_count": null,
      "outputs": [
        {
          "output_type": "execute_result",
          "data": {
            "text/plain": [
              "RangeIndex(start=0, stop=253, step=1)"
            ]
          },
          "metadata": {
            "tags": []
          },
          "execution_count": 9
        }
      ]
    },
    {
      "cell_type": "code",
      "metadata": {
        "id": "JRu_Rqf8kwqn",
        "colab_type": "code",
        "colab": {
          "base_uri": "https://localhost:8080/",
          "height": 402
        },
        "outputId": "7379c341-f1a4-40ad-92bf-ccd75798d51d"
      },
      "source": [
        "APPL"
      ],
      "execution_count": null,
      "outputs": [
        {
          "output_type": "execute_result",
          "data": {
            "text/html": [
              "<div>\n",
              "<style scoped>\n",
              "    .dataframe tbody tr th:only-of-type {\n",
              "        vertical-align: middle;\n",
              "    }\n",
              "\n",
              "    .dataframe tbody tr th {\n",
              "        vertical-align: top;\n",
              "    }\n",
              "\n",
              "    .dataframe thead th {\n",
              "        text-align: right;\n",
              "    }\n",
              "</style>\n",
              "<table border=\"1\" class=\"dataframe\">\n",
              "  <thead>\n",
              "    <tr style=\"text-align: right;\">\n",
              "      <th></th>\n",
              "      <th>Date</th>\n",
              "      <th>Open</th>\n",
              "      <th>High</th>\n",
              "      <th>Low</th>\n",
              "      <th>Close</th>\n",
              "      <th>Adj Close</th>\n",
              "      <th>Volume</th>\n",
              "    </tr>\n",
              "  </thead>\n",
              "  <tbody>\n",
              "    <tr>\n",
              "      <th>0</th>\n",
              "      <td>2019-04-29</td>\n",
              "      <td>204.399994</td>\n",
              "      <td>205.970001</td>\n",
              "      <td>203.860001</td>\n",
              "      <td>204.610001</td>\n",
              "      <td>201.966461</td>\n",
              "      <td>22204700</td>\n",
              "    </tr>\n",
              "    <tr>\n",
              "      <th>1</th>\n",
              "      <td>2019-04-30</td>\n",
              "      <td>203.059998</td>\n",
              "      <td>203.399994</td>\n",
              "      <td>199.110001</td>\n",
              "      <td>200.669998</td>\n",
              "      <td>198.077362</td>\n",
              "      <td>46534900</td>\n",
              "    </tr>\n",
              "    <tr>\n",
              "      <th>2</th>\n",
              "      <td>2019-05-01</td>\n",
              "      <td>209.880005</td>\n",
              "      <td>215.309998</td>\n",
              "      <td>209.229996</td>\n",
              "      <td>210.520004</td>\n",
              "      <td>207.800110</td>\n",
              "      <td>64827300</td>\n",
              "    </tr>\n",
              "    <tr>\n",
              "      <th>3</th>\n",
              "      <td>2019-05-02</td>\n",
              "      <td>209.839996</td>\n",
              "      <td>212.649994</td>\n",
              "      <td>208.130005</td>\n",
              "      <td>209.149994</td>\n",
              "      <td>206.447800</td>\n",
              "      <td>31996300</td>\n",
              "    </tr>\n",
              "    <tr>\n",
              "      <th>4</th>\n",
              "      <td>2019-05-03</td>\n",
              "      <td>210.889999</td>\n",
              "      <td>211.839996</td>\n",
              "      <td>210.229996</td>\n",
              "      <td>211.750000</td>\n",
              "      <td>209.014221</td>\n",
              "      <td>20892400</td>\n",
              "    </tr>\n",
              "    <tr>\n",
              "      <th>...</th>\n",
              "      <td>...</td>\n",
              "      <td>...</td>\n",
              "      <td>...</td>\n",
              "      <td>...</td>\n",
              "      <td>...</td>\n",
              "      <td>...</td>\n",
              "      <td>...</td>\n",
              "    </tr>\n",
              "    <tr>\n",
              "      <th>248</th>\n",
              "      <td>2020-04-22</td>\n",
              "      <td>273.609985</td>\n",
              "      <td>277.899994</td>\n",
              "      <td>272.200012</td>\n",
              "      <td>276.100006</td>\n",
              "      <td>276.100006</td>\n",
              "      <td>29264300</td>\n",
              "    </tr>\n",
              "    <tr>\n",
              "      <th>249</th>\n",
              "      <td>2020-04-23</td>\n",
              "      <td>275.869995</td>\n",
              "      <td>281.750000</td>\n",
              "      <td>274.869995</td>\n",
              "      <td>275.029999</td>\n",
              "      <td>275.029999</td>\n",
              "      <td>31203600</td>\n",
              "    </tr>\n",
              "    <tr>\n",
              "      <th>250</th>\n",
              "      <td>2020-04-24</td>\n",
              "      <td>277.200012</td>\n",
              "      <td>283.010010</td>\n",
              "      <td>277.000000</td>\n",
              "      <td>282.970001</td>\n",
              "      <td>282.970001</td>\n",
              "      <td>31627200</td>\n",
              "    </tr>\n",
              "    <tr>\n",
              "      <th>251</th>\n",
              "      <td>2020-04-27</td>\n",
              "      <td>281.799988</td>\n",
              "      <td>284.540009</td>\n",
              "      <td>279.950012</td>\n",
              "      <td>283.170013</td>\n",
              "      <td>283.170013</td>\n",
              "      <td>29236400</td>\n",
              "    </tr>\n",
              "    <tr>\n",
              "      <th>252</th>\n",
              "      <td>2020-04-28</td>\n",
              "      <td>285.079987</td>\n",
              "      <td>285.829987</td>\n",
              "      <td>279.330994</td>\n",
              "      <td>280.049988</td>\n",
              "      <td>280.049988</td>\n",
              "      <td>22660547</td>\n",
              "    </tr>\n",
              "  </tbody>\n",
              "</table>\n",
              "<p>253 rows × 7 columns</p>\n",
              "</div>"
            ],
            "text/plain": [
              "           Date        Open        High  ...       Close   Adj Close    Volume\n",
              "0    2019-04-29  204.399994  205.970001  ...  204.610001  201.966461  22204700\n",
              "1    2019-04-30  203.059998  203.399994  ...  200.669998  198.077362  46534900\n",
              "2    2019-05-01  209.880005  215.309998  ...  210.520004  207.800110  64827300\n",
              "3    2019-05-02  209.839996  212.649994  ...  209.149994  206.447800  31996300\n",
              "4    2019-05-03  210.889999  211.839996  ...  211.750000  209.014221  20892400\n",
              "..          ...         ...         ...  ...         ...         ...       ...\n",
              "248  2020-04-22  273.609985  277.899994  ...  276.100006  276.100006  29264300\n",
              "249  2020-04-23  275.869995  281.750000  ...  275.029999  275.029999  31203600\n",
              "250  2020-04-24  277.200012  283.010010  ...  282.970001  282.970001  31627200\n",
              "251  2020-04-27  281.799988  284.540009  ...  283.170013  283.170013  29236400\n",
              "252  2020-04-28  285.079987  285.829987  ...  280.049988  280.049988  22660547\n",
              "\n",
              "[253 rows x 7 columns]"
            ]
          },
          "metadata": {
            "tags": []
          },
          "execution_count": 10
        }
      ]
    },
    {
      "cell_type": "markdown",
      "metadata": {
        "id": "upWF4m1QlG6T",
        "colab_type": "text"
      },
      "source": [
        "How to Do Slicing with Dataset"
      ]
    },
    {
      "cell_type": "code",
      "metadata": {
        "id": "I6lHYCiDk25s",
        "colab_type": "code",
        "colab": {
          "base_uri": "https://localhost:8080/",
          "height": 252
        },
        "outputId": "258855fb-13fa-4485-96d5-7894d58b71cd"
      },
      "source": [
        "APPL.info()"
      ],
      "execution_count": null,
      "outputs": [
        {
          "output_type": "stream",
          "text": [
            "<class 'pandas.core.frame.DataFrame'>\n",
            "RangeIndex: 253 entries, 0 to 252\n",
            "Data columns (total 7 columns):\n",
            " #   Column     Non-Null Count  Dtype  \n",
            "---  ------     --------------  -----  \n",
            " 0   Date       253 non-null    object \n",
            " 1   Open       253 non-null    float64\n",
            " 2   High       253 non-null    float64\n",
            " 3   Low        253 non-null    float64\n",
            " 4   Close      253 non-null    float64\n",
            " 5   Adj Close  253 non-null    float64\n",
            " 6   Volume     253 non-null    int64  \n",
            "dtypes: float64(5), int64(1), object(1)\n",
            "memory usage: 14.0+ KB\n"
          ],
          "name": "stdout"
        }
      ]
    },
    {
      "cell_type": "code",
      "metadata": {
        "id": "dUFKW2jMlSoB",
        "colab_type": "code",
        "colab": {
          "base_uri": "https://localhost:8080/",
          "height": 314
        },
        "outputId": "a8a5b689-7613-4d2f-89f7-554edc17805e"
      },
      "source": [
        "APPL.iloc[:9,:]"
      ],
      "execution_count": null,
      "outputs": [
        {
          "output_type": "execute_result",
          "data": {
            "text/html": [
              "<div>\n",
              "<style scoped>\n",
              "    .dataframe tbody tr th:only-of-type {\n",
              "        vertical-align: middle;\n",
              "    }\n",
              "\n",
              "    .dataframe tbody tr th {\n",
              "        vertical-align: top;\n",
              "    }\n",
              "\n",
              "    .dataframe thead th {\n",
              "        text-align: right;\n",
              "    }\n",
              "</style>\n",
              "<table border=\"1\" class=\"dataframe\">\n",
              "  <thead>\n",
              "    <tr style=\"text-align: right;\">\n",
              "      <th></th>\n",
              "      <th>Date</th>\n",
              "      <th>Open</th>\n",
              "      <th>High</th>\n",
              "      <th>Low</th>\n",
              "      <th>Close</th>\n",
              "      <th>Adj Close</th>\n",
              "      <th>Volume</th>\n",
              "    </tr>\n",
              "  </thead>\n",
              "  <tbody>\n",
              "    <tr>\n",
              "      <th>0</th>\n",
              "      <td>2019-04-29</td>\n",
              "      <td>204.399994</td>\n",
              "      <td>205.970001</td>\n",
              "      <td>203.860001</td>\n",
              "      <td>204.610001</td>\n",
              "      <td>201.966461</td>\n",
              "      <td>22204700</td>\n",
              "    </tr>\n",
              "    <tr>\n",
              "      <th>1</th>\n",
              "      <td>2019-04-30</td>\n",
              "      <td>203.059998</td>\n",
              "      <td>203.399994</td>\n",
              "      <td>199.110001</td>\n",
              "      <td>200.669998</td>\n",
              "      <td>198.077362</td>\n",
              "      <td>46534900</td>\n",
              "    </tr>\n",
              "    <tr>\n",
              "      <th>2</th>\n",
              "      <td>2019-05-01</td>\n",
              "      <td>209.880005</td>\n",
              "      <td>215.309998</td>\n",
              "      <td>209.229996</td>\n",
              "      <td>210.520004</td>\n",
              "      <td>207.800110</td>\n",
              "      <td>64827300</td>\n",
              "    </tr>\n",
              "    <tr>\n",
              "      <th>3</th>\n",
              "      <td>2019-05-02</td>\n",
              "      <td>209.839996</td>\n",
              "      <td>212.649994</td>\n",
              "      <td>208.130005</td>\n",
              "      <td>209.149994</td>\n",
              "      <td>206.447800</td>\n",
              "      <td>31996300</td>\n",
              "    </tr>\n",
              "    <tr>\n",
              "      <th>4</th>\n",
              "      <td>2019-05-03</td>\n",
              "      <td>210.889999</td>\n",
              "      <td>211.839996</td>\n",
              "      <td>210.229996</td>\n",
              "      <td>211.750000</td>\n",
              "      <td>209.014221</td>\n",
              "      <td>20892400</td>\n",
              "    </tr>\n",
              "    <tr>\n",
              "      <th>5</th>\n",
              "      <td>2019-05-06</td>\n",
              "      <td>204.289993</td>\n",
              "      <td>208.839996</td>\n",
              "      <td>203.500000</td>\n",
              "      <td>208.479996</td>\n",
              "      <td>205.786469</td>\n",
              "      <td>32443100</td>\n",
              "    </tr>\n",
              "    <tr>\n",
              "      <th>6</th>\n",
              "      <td>2019-05-07</td>\n",
              "      <td>205.880005</td>\n",
              "      <td>207.419998</td>\n",
              "      <td>200.830002</td>\n",
              "      <td>202.860001</td>\n",
              "      <td>200.239075</td>\n",
              "      <td>38763700</td>\n",
              "    </tr>\n",
              "    <tr>\n",
              "      <th>7</th>\n",
              "      <td>2019-05-08</td>\n",
              "      <td>201.899994</td>\n",
              "      <td>205.339996</td>\n",
              "      <td>201.750000</td>\n",
              "      <td>202.899994</td>\n",
              "      <td>200.278534</td>\n",
              "      <td>26339500</td>\n",
              "    </tr>\n",
              "    <tr>\n",
              "      <th>8</th>\n",
              "      <td>2019-05-09</td>\n",
              "      <td>200.399994</td>\n",
              "      <td>201.679993</td>\n",
              "      <td>196.660004</td>\n",
              "      <td>200.720001</td>\n",
              "      <td>198.126709</td>\n",
              "      <td>34908600</td>\n",
              "    </tr>\n",
              "  </tbody>\n",
              "</table>\n",
              "</div>"
            ],
            "text/plain": [
              "         Date        Open        High  ...       Close   Adj Close    Volume\n",
              "0  2019-04-29  204.399994  205.970001  ...  204.610001  201.966461  22204700\n",
              "1  2019-04-30  203.059998  203.399994  ...  200.669998  198.077362  46534900\n",
              "2  2019-05-01  209.880005  215.309998  ...  210.520004  207.800110  64827300\n",
              "3  2019-05-02  209.839996  212.649994  ...  209.149994  206.447800  31996300\n",
              "4  2019-05-03  210.889999  211.839996  ...  211.750000  209.014221  20892400\n",
              "5  2019-05-06  204.289993  208.839996  ...  208.479996  205.786469  32443100\n",
              "6  2019-05-07  205.880005  207.419998  ...  202.860001  200.239075  38763700\n",
              "7  2019-05-08  201.899994  205.339996  ...  202.899994  200.278534  26339500\n",
              "8  2019-05-09  200.399994  201.679993  ...  200.720001  198.126709  34908600\n",
              "\n",
              "[9 rows x 7 columns]"
            ]
          },
          "metadata": {
            "tags": []
          },
          "execution_count": 14
        }
      ]
    },
    {
      "cell_type": "code",
      "metadata": {
        "id": "kIQL0ftalcNd",
        "colab_type": "code",
        "colab": {
          "base_uri": "https://localhost:8080/",
          "height": 314
        },
        "outputId": "a803a8af-3937-4ad4-b284-f75b197118bf"
      },
      "source": [
        "APPL.head(9)"
      ],
      "execution_count": null,
      "outputs": [
        {
          "output_type": "execute_result",
          "data": {
            "text/html": [
              "<div>\n",
              "<style scoped>\n",
              "    .dataframe tbody tr th:only-of-type {\n",
              "        vertical-align: middle;\n",
              "    }\n",
              "\n",
              "    .dataframe tbody tr th {\n",
              "        vertical-align: top;\n",
              "    }\n",
              "\n",
              "    .dataframe thead th {\n",
              "        text-align: right;\n",
              "    }\n",
              "</style>\n",
              "<table border=\"1\" class=\"dataframe\">\n",
              "  <thead>\n",
              "    <tr style=\"text-align: right;\">\n",
              "      <th></th>\n",
              "      <th>Date</th>\n",
              "      <th>Open</th>\n",
              "      <th>High</th>\n",
              "      <th>Low</th>\n",
              "      <th>Close</th>\n",
              "      <th>Adj Close</th>\n",
              "      <th>Volume</th>\n",
              "    </tr>\n",
              "  </thead>\n",
              "  <tbody>\n",
              "    <tr>\n",
              "      <th>0</th>\n",
              "      <td>2019-04-29</td>\n",
              "      <td>204.399994</td>\n",
              "      <td>205.970001</td>\n",
              "      <td>203.860001</td>\n",
              "      <td>204.610001</td>\n",
              "      <td>201.966461</td>\n",
              "      <td>22204700</td>\n",
              "    </tr>\n",
              "    <tr>\n",
              "      <th>1</th>\n",
              "      <td>2019-04-30</td>\n",
              "      <td>203.059998</td>\n",
              "      <td>203.399994</td>\n",
              "      <td>199.110001</td>\n",
              "      <td>200.669998</td>\n",
              "      <td>198.077362</td>\n",
              "      <td>46534900</td>\n",
              "    </tr>\n",
              "    <tr>\n",
              "      <th>2</th>\n",
              "      <td>2019-05-01</td>\n",
              "      <td>209.880005</td>\n",
              "      <td>215.309998</td>\n",
              "      <td>209.229996</td>\n",
              "      <td>210.520004</td>\n",
              "      <td>207.800110</td>\n",
              "      <td>64827300</td>\n",
              "    </tr>\n",
              "    <tr>\n",
              "      <th>3</th>\n",
              "      <td>2019-05-02</td>\n",
              "      <td>209.839996</td>\n",
              "      <td>212.649994</td>\n",
              "      <td>208.130005</td>\n",
              "      <td>209.149994</td>\n",
              "      <td>206.447800</td>\n",
              "      <td>31996300</td>\n",
              "    </tr>\n",
              "    <tr>\n",
              "      <th>4</th>\n",
              "      <td>2019-05-03</td>\n",
              "      <td>210.889999</td>\n",
              "      <td>211.839996</td>\n",
              "      <td>210.229996</td>\n",
              "      <td>211.750000</td>\n",
              "      <td>209.014221</td>\n",
              "      <td>20892400</td>\n",
              "    </tr>\n",
              "    <tr>\n",
              "      <th>5</th>\n",
              "      <td>2019-05-06</td>\n",
              "      <td>204.289993</td>\n",
              "      <td>208.839996</td>\n",
              "      <td>203.500000</td>\n",
              "      <td>208.479996</td>\n",
              "      <td>205.786469</td>\n",
              "      <td>32443100</td>\n",
              "    </tr>\n",
              "    <tr>\n",
              "      <th>6</th>\n",
              "      <td>2019-05-07</td>\n",
              "      <td>205.880005</td>\n",
              "      <td>207.419998</td>\n",
              "      <td>200.830002</td>\n",
              "      <td>202.860001</td>\n",
              "      <td>200.239075</td>\n",
              "      <td>38763700</td>\n",
              "    </tr>\n",
              "    <tr>\n",
              "      <th>7</th>\n",
              "      <td>2019-05-08</td>\n",
              "      <td>201.899994</td>\n",
              "      <td>205.339996</td>\n",
              "      <td>201.750000</td>\n",
              "      <td>202.899994</td>\n",
              "      <td>200.278534</td>\n",
              "      <td>26339500</td>\n",
              "    </tr>\n",
              "    <tr>\n",
              "      <th>8</th>\n",
              "      <td>2019-05-09</td>\n",
              "      <td>200.399994</td>\n",
              "      <td>201.679993</td>\n",
              "      <td>196.660004</td>\n",
              "      <td>200.720001</td>\n",
              "      <td>198.126709</td>\n",
              "      <td>34908600</td>\n",
              "    </tr>\n",
              "  </tbody>\n",
              "</table>\n",
              "</div>"
            ],
            "text/plain": [
              "         Date        Open        High  ...       Close   Adj Close    Volume\n",
              "0  2019-04-29  204.399994  205.970001  ...  204.610001  201.966461  22204700\n",
              "1  2019-04-30  203.059998  203.399994  ...  200.669998  198.077362  46534900\n",
              "2  2019-05-01  209.880005  215.309998  ...  210.520004  207.800110  64827300\n",
              "3  2019-05-02  209.839996  212.649994  ...  209.149994  206.447800  31996300\n",
              "4  2019-05-03  210.889999  211.839996  ...  211.750000  209.014221  20892400\n",
              "5  2019-05-06  204.289993  208.839996  ...  208.479996  205.786469  32443100\n",
              "6  2019-05-07  205.880005  207.419998  ...  202.860001  200.239075  38763700\n",
              "7  2019-05-08  201.899994  205.339996  ...  202.899994  200.278534  26339500\n",
              "8  2019-05-09  200.399994  201.679993  ...  200.720001  198.126709  34908600\n",
              "\n",
              "[9 rows x 7 columns]"
            ]
          },
          "metadata": {
            "tags": []
          },
          "execution_count": 15
        }
      ]
    },
    {
      "cell_type": "markdown",
      "metadata": {
        "id": "-LLfykCMmQmB",
        "colab_type": "text"
      },
      "source": [
        "How to Create DataFrame with Dict(1)"
      ]
    },
    {
      "cell_type": "code",
      "metadata": {
        "id": "ie9Kj5mJlvHi",
        "colab_type": "code",
        "colab": {}
      },
      "source": [
        "data = {'Weekday':['Sun','Mon','Tues'],\n",
        "        'City':['Kolkata','Delhi','Mumbai'],\n",
        "        'Onlinevisitor':[139,140,141],\n",
        "        'Signup':[10,11,12]}"
      ],
      "execution_count": null,
      "outputs": []
    },
    {
      "cell_type": "code",
      "metadata": {
        "id": "pbsfmtRPmxo5",
        "colab_type": "code",
        "colab": {
          "base_uri": "https://localhost:8080/",
          "height": 84
        },
        "outputId": "2b241b4e-ea5c-4a07-8620-bff0979b2e89"
      },
      "source": [
        "data"
      ],
      "execution_count": null,
      "outputs": [
        {
          "output_type": "execute_result",
          "data": {
            "text/plain": [
              "{'City': ['Kolkata', 'Delhi', 'Mumbai'],\n",
              " 'Onlinevisitor': [139, 140, 141],\n",
              " 'Signup': [10, 11, 12],\n",
              " 'Weekday': ['Sun', 'Mon', 'Tues']}"
            ]
          },
          "metadata": {
            "tags": []
          },
          "execution_count": 18
        }
      ]
    },
    {
      "cell_type": "code",
      "metadata": {
        "id": "SOPhH0HIm6kt",
        "colab_type": "code",
        "colab": {
          "base_uri": "https://localhost:8080/",
          "height": 84
        },
        "outputId": "a5fe83e3-e9fb-48e7-a2fd-e67944151d6e"
      },
      "source": [
        "users=pd.DataFrame(data)\n",
        "print(users)"
      ],
      "execution_count": null,
      "outputs": [
        {
          "output_type": "stream",
          "text": [
            "  Weekday     City  Onlinevisitor  Signup\n",
            "0     Sun  Kolkata            139      10\n",
            "1     Mon    Delhi            140      11\n",
            "2    Tues   Mumbai            141      12\n"
          ],
          "name": "stdout"
        }
      ]
    },
    {
      "cell_type": "markdown",
      "metadata": {
        "id": "9UznvYQvnUt4",
        "colab_type": "text"
      },
      "source": [
        "DataFrame using dict(2)"
      ]
    },
    {
      "cell_type": "code",
      "metadata": {
        "id": "6IZScxrSnCoJ",
        "colab_type": "code",
        "colab": {}
      },
      "source": [
        "Cities=['Kolkata','Delhi','Mumbai']\n",
        "Signups=[10,11,12]\n",
        "Onlinevisitors=[139,140,141]\n",
        "Weekday=['Sun','Mon','Tues']\n",
        "list_label=['Cities','Signups','Onlinevisitors','Weekday']\n",
        "list_cols=[Cities,Signups,Onlinevisitors,Weekday]\n",
        "zipped=list(zip(list_label,list_cols))"
      ],
      "execution_count": null,
      "outputs": []
    },
    {
      "cell_type": "code",
      "metadata": {
        "id": "dX1xSxAOoMj6",
        "colab_type": "code",
        "colab": {
          "base_uri": "https://localhost:8080/",
          "height": 54
        },
        "outputId": "cd58904b-fb82-4658-aed6-e9e4283aaf79"
      },
      "source": [
        "print(zipped)"
      ],
      "execution_count": null,
      "outputs": [
        {
          "output_type": "stream",
          "text": [
            "[('Cities', ['Kolkata', 'Delhi', 'Mumbai']), ('Signups', [10, 11, 12]), ('Onlinevisitors', [139, 140, 141]), ('Weekday', ['Sun', 'Mon', 'Tues'])]\n"
          ],
          "name": "stdout"
        }
      ]
    },
    {
      "cell_type": "code",
      "metadata": {
        "id": "7A7o5j0Loa3Q",
        "colab_type": "code",
        "colab": {
          "base_uri": "https://localhost:8080/",
          "height": 84
        },
        "outputId": "fb797393-f049-4585-9b9f-c633edeed15b"
      },
      "source": [
        "data=dict(zipped)\n",
        "users=pd.DataFrame(data)\n",
        "print(users)"
      ],
      "execution_count": null,
      "outputs": [
        {
          "output_type": "stream",
          "text": [
            "    Cities  Signups  Onlinevisitors Weekday\n",
            "0  Kolkata       10             139     Sun\n",
            "1    Delhi       11             140     Mon\n",
            "2   Mumbai       12             141    Tues\n"
          ],
          "name": "stdout"
        }
      ]
    },
    {
      "cell_type": "markdown",
      "metadata": {
        "id": "Pvftf3vqo14N",
        "colab_type": "text"
      },
      "source": [
        "Broadcasting Concept"
      ]
    },
    {
      "cell_type": "code",
      "metadata": {
        "id": "aw9CzBZBol-M",
        "colab_type": "code",
        "colab": {
          "base_uri": "https://localhost:8080/",
          "height": 84
        },
        "outputId": "dbd1bb86-7c1b-4a33-c50e-8a7744d1769f"
      },
      "source": [
        "users['payment']=0 # Broadcasts to Entire Column\n",
        "print(users)"
      ],
      "execution_count": null,
      "outputs": [
        {
          "output_type": "stream",
          "text": [
            "    Cities  Signups  Onlinevisitors Weekday  payment\n",
            "0  Kolkata       10             139     Sun        0\n",
            "1    Delhi       11             140     Mon        0\n",
            "2   Mumbai       12             141    Tues        0\n"
          ],
          "name": "stdout"
        }
      ]
    },
    {
      "cell_type": "markdown",
      "metadata": {
        "id": "nHRu8VTfpMF7",
        "colab_type": "text"
      },
      "source": [
        "Broadcasting with Dict"
      ]
    },
    {
      "cell_type": "code",
      "metadata": {
        "id": "HWWsKkswpClX",
        "colab_type": "code",
        "colab": {}
      },
      "source": [
        "heigth=[59.0,65.2,65.4,66.2,67.8]"
      ],
      "execution_count": null,
      "outputs": []
    },
    {
      "cell_type": "code",
      "metadata": {
        "id": "Dth6DZT5pXEY",
        "colab_type": "code",
        "colab": {
          "base_uri": "https://localhost:8080/",
          "height": 118
        },
        "outputId": "e47d2a9f-6a8b-41f4-e903-7070c9fee60a"
      },
      "source": [
        "data={'height':heigth,'sex':'F'}\n",
        "results =pd.DataFrame(data)\n",
        "print(results)"
      ],
      "execution_count": null,
      "outputs": [
        {
          "output_type": "stream",
          "text": [
            "   height sex\n",
            "0    59.0   F\n",
            "1    65.2   F\n",
            "2    65.4   F\n",
            "3    66.2   F\n",
            "4    67.8   F\n"
          ],
          "name": "stdout"
        }
      ]
    },
    {
      "cell_type": "markdown",
      "metadata": {
        "id": "A17WOhzNqQ1p",
        "colab_type": "text"
      },
      "source": [
        "Index and Columns"
      ]
    },
    {
      "cell_type": "code",
      "metadata": {
        "id": "FmtQ9vt1pm9E",
        "colab_type": "code",
        "colab": {
          "base_uri": "https://localhost:8080/",
          "height": 118
        },
        "outputId": "e5ff22be-daf4-4267-95b2-65fa23f7c5fe"
      },
      "source": [
        "results.columns=['heights (in)','sex']\n",
        "results.index=['A','B','C','D','E']\n",
        "print(results)"
      ],
      "execution_count": null,
      "outputs": [
        {
          "output_type": "stream",
          "text": [
            "   heights (in) sex\n",
            "A          59.0   F\n",
            "B          65.2   F\n",
            "C          65.4   F\n",
            "D          66.2   F\n",
            "E          67.8   F\n"
          ],
          "name": "stdout"
        }
      ]
    },
    {
      "cell_type": "code",
      "metadata": {
        "id": "pxhVDKNKqjul",
        "colab_type": "code",
        "colab": {
          "resources": {
            "http://localhost:8080/nbextensions/google.colab/files.js": {
              "data": "Ly8gQ29weXJpZ2h0IDIwMTcgR29vZ2xlIExMQwovLwovLyBMaWNlbnNlZCB1bmRlciB0aGUgQXBhY2hlIExpY2Vuc2UsIFZlcnNpb24gMi4wICh0aGUgIkxpY2Vuc2UiKTsKLy8geW91IG1heSBub3QgdXNlIHRoaXMgZmlsZSBleGNlcHQgaW4gY29tcGxpYW5jZSB3aXRoIHRoZSBMaWNlbnNlLgovLyBZb3UgbWF5IG9idGFpbiBhIGNvcHkgb2YgdGhlIExpY2Vuc2UgYXQKLy8KLy8gICAgICBodHRwOi8vd3d3LmFwYWNoZS5vcmcvbGljZW5zZXMvTElDRU5TRS0yLjAKLy8KLy8gVW5sZXNzIHJlcXVpcmVkIGJ5IGFwcGxpY2FibGUgbGF3IG9yIGFncmVlZCB0byBpbiB3cml0aW5nLCBzb2Z0d2FyZQovLyBkaXN0cmlidXRlZCB1bmRlciB0aGUgTGljZW5zZSBpcyBkaXN0cmlidXRlZCBvbiBhbiAiQVMgSVMiIEJBU0lTLAovLyBXSVRIT1VUIFdBUlJBTlRJRVMgT1IgQ09ORElUSU9OUyBPRiBBTlkgS0lORCwgZWl0aGVyIGV4cHJlc3Mgb3IgaW1wbGllZC4KLy8gU2VlIHRoZSBMaWNlbnNlIGZvciB0aGUgc3BlY2lmaWMgbGFuZ3VhZ2UgZ292ZXJuaW5nIHBlcm1pc3Npb25zIGFuZAovLyBsaW1pdGF0aW9ucyB1bmRlciB0aGUgTGljZW5zZS4KCi8qKgogKiBAZmlsZW92ZXJ2aWV3IEhlbHBlcnMgZm9yIGdvb2dsZS5jb2xhYiBQeXRob24gbW9kdWxlLgogKi8KKGZ1bmN0aW9uKHNjb3BlKSB7CmZ1bmN0aW9uIHNwYW4odGV4dCwgc3R5bGVBdHRyaWJ1dGVzID0ge30pIHsKICBjb25zdCBlbGVtZW50ID0gZG9jdW1lbnQuY3JlYXRlRWxlbWVudCgnc3BhbicpOwogIGVsZW1lbnQudGV4dENvbnRlbnQgPSB0ZXh0OwogIGZvciAoY29uc3Qga2V5IG9mIE9iamVjdC5rZXlzKHN0eWxlQXR0cmlidXRlcykpIHsKICAgIGVsZW1lbnQuc3R5bGVba2V5XSA9IHN0eWxlQXR0cmlidXRlc1trZXldOwogIH0KICByZXR1cm4gZWxlbWVudDsKfQoKLy8gTWF4IG51bWJlciBvZiBieXRlcyB3aGljaCB3aWxsIGJlIHVwbG9hZGVkIGF0IGEgdGltZS4KY29uc3QgTUFYX1BBWUxPQURfU0laRSA9IDEwMCAqIDEwMjQ7Ci8vIE1heCBhbW91bnQgb2YgdGltZSB0byBibG9jayB3YWl0aW5nIGZvciB0aGUgdXNlci4KY29uc3QgRklMRV9DSEFOR0VfVElNRU9VVF9NUyA9IDMwICogMTAwMDsKCmZ1bmN0aW9uIF91cGxvYWRGaWxlcyhpbnB1dElkLCBvdXRwdXRJZCkgewogIGNvbnN0IHN0ZXBzID0gdXBsb2FkRmlsZXNTdGVwKGlucHV0SWQsIG91dHB1dElkKTsKICBjb25zdCBvdXRwdXRFbGVtZW50ID0gZG9jdW1lbnQuZ2V0RWxlbWVudEJ5SWQob3V0cHV0SWQpOwogIC8vIENhY2hlIHN0ZXBzIG9uIHRoZSBvdXRwdXRFbGVtZW50IHRvIG1ha2UgaXQgYXZhaWxhYmxlIGZvciB0aGUgbmV4dCBjYWxsCiAgLy8gdG8gdXBsb2FkRmlsZXNDb250aW51ZSBmcm9tIFB5dGhvbi4KICBvdXRwdXRFbGVtZW50LnN0ZXBzID0gc3RlcHM7CgogIHJldHVybiBfdXBsb2FkRmlsZXNDb250aW51ZShvdXRwdXRJZCk7Cn0KCi8vIFRoaXMgaXMgcm91Z2hseSBhbiBhc3luYyBnZW5lcmF0b3IgKG5vdCBzdXBwb3J0ZWQgaW4gdGhlIGJyb3dzZXIgeWV0KSwKLy8gd2hlcmUgdGhlcmUgYXJlIG11bHRpcGxlIGFzeW5jaHJvbm91cyBzdGVwcyBhbmQgdGhlIFB5dGhvbiBzaWRlIGlzIGdvaW5nCi8vIHRvIHBvbGwgZm9yIGNvbXBsZXRpb24gb2YgZWFjaCBzdGVwLgovLyBUaGlzIHVzZXMgYSBQcm9taXNlIHRvIGJsb2NrIHRoZSBweXRob24gc2lkZSBvbiBjb21wbGV0aW9uIG9mIGVhY2ggc3RlcCwKLy8gdGhlbiBwYXNzZXMgdGhlIHJlc3VsdCBvZiB0aGUgcHJldmlvdXMgc3RlcCBhcyB0aGUgaW5wdXQgdG8gdGhlIG5leHQgc3RlcC4KZnVuY3Rpb24gX3VwbG9hZEZpbGVzQ29udGludWUob3V0cHV0SWQpIHsKICBjb25zdCBvdXRwdXRFbGVtZW50ID0gZG9jdW1lbnQuZ2V0RWxlbWVudEJ5SWQob3V0cHV0SWQpOwogIGNvbnN0IHN0ZXBzID0gb3V0cHV0RWxlbWVudC5zdGVwczsKCiAgY29uc3QgbmV4dCA9IHN0ZXBzLm5leHQob3V0cHV0RWxlbWVudC5sYXN0UHJvbWlzZVZhbHVlKTsKICByZXR1cm4gUHJvbWlzZS5yZXNvbHZlKG5leHQudmFsdWUucHJvbWlzZSkudGhlbigodmFsdWUpID0+IHsKICAgIC8vIENhY2hlIHRoZSBsYXN0IHByb21pc2UgdmFsdWUgdG8gbWFrZSBpdCBhdmFpbGFibGUgdG8gdGhlIG5leHQKICAgIC8vIHN0ZXAgb2YgdGhlIGdlbmVyYXRvci4KICAgIG91dHB1dEVsZW1lbnQubGFzdFByb21pc2VWYWx1ZSA9IHZhbHVlOwogICAgcmV0dXJuIG5leHQudmFsdWUucmVzcG9uc2U7CiAgfSk7Cn0KCi8qKgogKiBHZW5lcmF0b3IgZnVuY3Rpb24gd2hpY2ggaXMgY2FsbGVkIGJldHdlZW4gZWFjaCBhc3luYyBzdGVwIG9mIHRoZSB1cGxvYWQKICogcHJvY2Vzcy4KICogQHBhcmFtIHtzdHJpbmd9IGlucHV0SWQgRWxlbWVudCBJRCBvZiB0aGUgaW5wdXQgZmlsZSBwaWNrZXIgZWxlbWVudC4KICogQHBhcmFtIHtzdHJpbmd9IG91dHB1dElkIEVsZW1lbnQgSUQgb2YgdGhlIG91dHB1dCBkaXNwbGF5LgogKiBAcmV0dXJuIHshSXRlcmFibGU8IU9iamVjdD59IEl0ZXJhYmxlIG9mIG5leHQgc3RlcHMuCiAqLwpmdW5jdGlvbiogdXBsb2FkRmlsZXNTdGVwKGlucHV0SWQsIG91dHB1dElkKSB7CiAgY29uc3QgaW5wdXRFbGVtZW50ID0gZG9jdW1lbnQuZ2V0RWxlbWVudEJ5SWQoaW5wdXRJZCk7CiAgaW5wdXRFbGVtZW50LmRpc2FibGVkID0gZmFsc2U7CgogIGNvbnN0IG91dHB1dEVsZW1lbnQgPSBkb2N1bWVudC5nZXRFbGVtZW50QnlJZChvdXRwdXRJZCk7CiAgb3V0cHV0RWxlbWVudC5pbm5lckhUTUwgPSAnJzsKCiAgY29uc3QgcGlja2VkUHJvbWlzZSA9IG5ldyBQcm9taXNlKChyZXNvbHZlKSA9PiB7CiAgICBpbnB1dEVsZW1lbnQuYWRkRXZlbnRMaXN0ZW5lcignY2hhbmdlJywgKGUpID0+IHsKICAgICAgcmVzb2x2ZShlLnRhcmdldC5maWxlcyk7CiAgICB9KTsKICB9KTsKCiAgY29uc3QgY2FuY2VsID0gZG9jdW1lbnQuY3JlYXRlRWxlbWVudCgnYnV0dG9uJyk7CiAgaW5wdXRFbGVtZW50LnBhcmVudEVsZW1lbnQuYXBwZW5kQ2hpbGQoY2FuY2VsKTsKICBjYW5jZWwudGV4dENvbnRlbnQgPSAnQ2FuY2VsIHVwbG9hZCc7CiAgY29uc3QgY2FuY2VsUHJvbWlzZSA9IG5ldyBQcm9taXNlKChyZXNvbHZlKSA9PiB7CiAgICBjYW5jZWwub25jbGljayA9ICgpID0+IHsKICAgICAgcmVzb2x2ZShudWxsKTsKICAgIH07CiAgfSk7CgogIC8vIENhbmNlbCB1cGxvYWQgaWYgdXNlciBoYXNuJ3QgcGlja2VkIGFueXRoaW5nIGluIHRpbWVvdXQuCiAgY29uc3QgdGltZW91dFByb21pc2UgPSBuZXcgUHJvbWlzZSgocmVzb2x2ZSkgPT4gewogICAgc2V0VGltZW91dCgoKSA9PiB7CiAgICAgIHJlc29sdmUobnVsbCk7CiAgICB9LCBGSUxFX0NIQU5HRV9USU1FT1VUX01TKTsKICB9KTsKCiAgLy8gV2FpdCBmb3IgdGhlIHVzZXIgdG8gcGljayB0aGUgZmlsZXMuCiAgY29uc3QgZmlsZXMgPSB5aWVsZCB7CiAgICBwcm9taXNlOiBQcm9taXNlLnJhY2UoW3BpY2tlZFByb21pc2UsIHRpbWVvdXRQcm9taXNlLCBjYW5jZWxQcm9taXNlXSksCiAgICByZXNwb25zZTogewogICAgICBhY3Rpb246ICdzdGFydGluZycsCiAgICB9CiAgfTsKCiAgaWYgKCFmaWxlcykgewogICAgcmV0dXJuIHsKICAgICAgcmVzcG9uc2U6IHsKICAgICAgICBhY3Rpb246ICdjb21wbGV0ZScsCiAgICAgIH0KICAgIH07CiAgfQoKICBjYW5jZWwucmVtb3ZlKCk7CgogIC8vIERpc2FibGUgdGhlIGlucHV0IGVsZW1lbnQgc2luY2UgZnVydGhlciBwaWNrcyBhcmUgbm90IGFsbG93ZWQuCiAgaW5wdXRFbGVtZW50LmRpc2FibGVkID0gdHJ1ZTsKCiAgZm9yIChjb25zdCBmaWxlIG9mIGZpbGVzKSB7CiAgICBjb25zdCBsaSA9IGRvY3VtZW50LmNyZWF0ZUVsZW1lbnQoJ2xpJyk7CiAgICBsaS5hcHBlbmQoc3BhbihmaWxlLm5hbWUsIHtmb250V2VpZ2h0OiAnYm9sZCd9KSk7CiAgICBsaS5hcHBlbmQoc3BhbigKICAgICAgICBgKCR7ZmlsZS50eXBlIHx8ICduL2EnfSkgLSAke2ZpbGUuc2l6ZX0gYnl0ZXMsIGAgKwogICAgICAgIGBsYXN0IG1vZGlmaWVkOiAkewogICAgICAgICAgICBmaWxlLmxhc3RNb2RpZmllZERhdGUgPyBmaWxlLmxhc3RNb2RpZmllZERhdGUudG9Mb2NhbGVEYXRlU3RyaW5nKCkgOgogICAgICAgICAgICAgICAgICAgICAgICAgICAgICAgICAgICAnbi9hJ30gLSBgKSk7CiAgICBjb25zdCBwZXJjZW50ID0gc3BhbignMCUgZG9uZScpOwogICAgbGkuYXBwZW5kQ2hpbGQocGVyY2VudCk7CgogICAgb3V0cHV0RWxlbWVudC5hcHBlbmRDaGlsZChsaSk7CgogICAgY29uc3QgZmlsZURhdGFQcm9taXNlID0gbmV3IFByb21pc2UoKHJlc29sdmUpID0+IHsKICAgICAgY29uc3QgcmVhZGVyID0gbmV3IEZpbGVSZWFkZXIoKTsKICAgICAgcmVhZGVyLm9ubG9hZCA9IChlKSA9PiB7CiAgICAgICAgcmVzb2x2ZShlLnRhcmdldC5yZXN1bHQpOwogICAgICB9OwogICAgICByZWFkZXIucmVhZEFzQXJyYXlCdWZmZXIoZmlsZSk7CiAgICB9KTsKICAgIC8vIFdhaXQgZm9yIHRoZSBkYXRhIHRvIGJlIHJlYWR5LgogICAgbGV0IGZpbGVEYXRhID0geWllbGQgewogICAgICBwcm9taXNlOiBmaWxlRGF0YVByb21pc2UsCiAgICAgIHJlc3BvbnNlOiB7CiAgICAgICAgYWN0aW9uOiAnY29udGludWUnLAogICAgICB9CiAgICB9OwoKICAgIC8vIFVzZSBhIGNodW5rZWQgc2VuZGluZyB0byBhdm9pZCBtZXNzYWdlIHNpemUgbGltaXRzLiBTZWUgYi82MjExNTY2MC4KICAgIGxldCBwb3NpdGlvbiA9IDA7CiAgICB3aGlsZSAocG9zaXRpb24gPCBmaWxlRGF0YS5ieXRlTGVuZ3RoKSB7CiAgICAgIGNvbnN0IGxlbmd0aCA9IE1hdGgubWluKGZpbGVEYXRhLmJ5dGVMZW5ndGggLSBwb3NpdGlvbiwgTUFYX1BBWUxPQURfU0laRSk7CiAgICAgIGNvbnN0IGNodW5rID0gbmV3IFVpbnQ4QXJyYXkoZmlsZURhdGEsIHBvc2l0aW9uLCBsZW5ndGgpOwogICAgICBwb3NpdGlvbiArPSBsZW5ndGg7CgogICAgICBjb25zdCBiYXNlNjQgPSBidG9hKFN0cmluZy5mcm9tQ2hhckNvZGUuYXBwbHkobnVsbCwgY2h1bmspKTsKICAgICAgeWllbGQgewogICAgICAgIHJlc3BvbnNlOiB7CiAgICAgICAgICBhY3Rpb246ICdhcHBlbmQnLAogICAgICAgICAgZmlsZTogZmlsZS5uYW1lLAogICAgICAgICAgZGF0YTogYmFzZTY0LAogICAgICAgIH0sCiAgICAgIH07CiAgICAgIHBlcmNlbnQudGV4dENvbnRlbnQgPQogICAgICAgICAgYCR7TWF0aC5yb3VuZCgocG9zaXRpb24gLyBmaWxlRGF0YS5ieXRlTGVuZ3RoKSAqIDEwMCl9JSBkb25lYDsKICAgIH0KICB9CgogIC8vIEFsbCBkb25lLgogIHlpZWxkIHsKICAgIHJlc3BvbnNlOiB7CiAgICAgIGFjdGlvbjogJ2NvbXBsZXRlJywKICAgIH0KICB9Owp9CgpzY29wZS5nb29nbGUgPSBzY29wZS5nb29nbGUgfHwge307CnNjb3BlLmdvb2dsZS5jb2xhYiA9IHNjb3BlLmdvb2dsZS5jb2xhYiB8fCB7fTsKc2NvcGUuZ29vZ2xlLmNvbGFiLl9maWxlcyA9IHsKICBfdXBsb2FkRmlsZXMsCiAgX3VwbG9hZEZpbGVzQ29udGludWUsCn07Cn0pKHNlbGYpOwo=",
              "ok": true,
              "headers": [
                [
                  "content-type",
                  "application/javascript"
                ]
              ],
              "status": 200,
              "status_text": ""
            }
          },
          "base_uri": "https://localhost:8080/",
          "height": 74
        },
        "outputId": "65e48754-e715-4cdd-f84d-b8c2932ccb2c"
      },
      "source": [
        "from google.colab import files\n",
        "uploaded = files.upload()"
      ],
      "execution_count": null,
      "outputs": [
        {
          "output_type": "display_data",
          "data": {
            "text/html": [
              "\n",
              "     <input type=\"file\" id=\"files-1791b5ec-d80f-40a3-956b-78bf2de1aab7\" name=\"files[]\" multiple disabled />\n",
              "     <output id=\"result-1791b5ec-d80f-40a3-956b-78bf2de1aab7\">\n",
              "      Upload widget is only available when the cell has been executed in the\n",
              "      current browser session. Please rerun this cell to enable.\n",
              "      </output>\n",
              "      <script src=\"/nbextensions/google.colab/files.js\"></script> "
            ],
            "text/plain": [
              "<IPython.core.display.HTML object>"
            ]
          },
          "metadata": {
            "tags": []
          }
        },
        {
          "output_type": "stream",
          "text": [
            "Saving ISSN_D_tot.csv to ISSN_D_tot.csv\n"
          ],
          "name": "stdout"
        }
      ]
    },
    {
      "cell_type": "code",
      "metadata": {
        "id": "21QxpMwFrHw3",
        "colab_type": "code",
        "colab": {
          "base_uri": "https://localhost:8080/",
          "height": 402
        },
        "outputId": "06e2faee-84b7-4048-db7b-2c761d8a73a8"
      },
      "source": [
        "sunspots = pd.read_csv('ISSN_D_tot.csv')\n",
        "sunspots"
      ],
      "execution_count": null,
      "outputs": [
        {
          "output_type": "execute_result",
          "data": {
            "text/html": [
              "<div>\n",
              "<style scoped>\n",
              "    .dataframe tbody tr th:only-of-type {\n",
              "        vertical-align: middle;\n",
              "    }\n",
              "\n",
              "    .dataframe tbody tr th {\n",
              "        vertical-align: top;\n",
              "    }\n",
              "\n",
              "    .dataframe thead th {\n",
              "        text-align: right;\n",
              "    }\n",
              "</style>\n",
              "<table border=\"1\" class=\"dataframe\">\n",
              "  <thead>\n",
              "    <tr style=\"text-align: right;\">\n",
              "      <th></th>\n",
              "      <th>1818</th>\n",
              "      <th>01</th>\n",
              "      <th>01.1</th>\n",
              "      <th>1818.004</th>\n",
              "      <th>-1</th>\n",
              "      <th>1</th>\n",
              "    </tr>\n",
              "  </thead>\n",
              "  <tbody>\n",
              "    <tr>\n",
              "      <th>0</th>\n",
              "      <td>1818</td>\n",
              "      <td>1</td>\n",
              "      <td>2</td>\n",
              "      <td>1818.007</td>\n",
              "      <td>-1</td>\n",
              "      <td>1</td>\n",
              "    </tr>\n",
              "    <tr>\n",
              "      <th>1</th>\n",
              "      <td>1818</td>\n",
              "      <td>1</td>\n",
              "      <td>3</td>\n",
              "      <td>1818.010</td>\n",
              "      <td>-1</td>\n",
              "      <td>1</td>\n",
              "    </tr>\n",
              "    <tr>\n",
              "      <th>2</th>\n",
              "      <td>1818</td>\n",
              "      <td>1</td>\n",
              "      <td>4</td>\n",
              "      <td>1818.012</td>\n",
              "      <td>-1</td>\n",
              "      <td>1</td>\n",
              "    </tr>\n",
              "    <tr>\n",
              "      <th>3</th>\n",
              "      <td>1818</td>\n",
              "      <td>1</td>\n",
              "      <td>5</td>\n",
              "      <td>1818.015</td>\n",
              "      <td>-1</td>\n",
              "      <td>1</td>\n",
              "    </tr>\n",
              "    <tr>\n",
              "      <th>4</th>\n",
              "      <td>1818</td>\n",
              "      <td>1</td>\n",
              "      <td>6</td>\n",
              "      <td>1818.018</td>\n",
              "      <td>-1</td>\n",
              "      <td>1</td>\n",
              "    </tr>\n",
              "    <tr>\n",
              "      <th>...</th>\n",
              "      <td>...</td>\n",
              "      <td>...</td>\n",
              "      <td>...</td>\n",
              "      <td>...</td>\n",
              "      <td>...</td>\n",
              "      <td>...</td>\n",
              "    </tr>\n",
              "    <tr>\n",
              "      <th>72098</th>\n",
              "      <td>2015</td>\n",
              "      <td>5</td>\n",
              "      <td>27</td>\n",
              "      <td>2015.400</td>\n",
              "      <td>9</td>\n",
              "      <td>0</td>\n",
              "    </tr>\n",
              "    <tr>\n",
              "      <th>72099</th>\n",
              "      <td>2015</td>\n",
              "      <td>5</td>\n",
              "      <td>28</td>\n",
              "      <td>2015.403</td>\n",
              "      <td>8</td>\n",
              "      <td>0</td>\n",
              "    </tr>\n",
              "    <tr>\n",
              "      <th>72100</th>\n",
              "      <td>2015</td>\n",
              "      <td>5</td>\n",
              "      <td>29</td>\n",
              "      <td>2015.406</td>\n",
              "      <td>22</td>\n",
              "      <td>0</td>\n",
              "    </tr>\n",
              "    <tr>\n",
              "      <th>72101</th>\n",
              "      <td>2015</td>\n",
              "      <td>5</td>\n",
              "      <td>30</td>\n",
              "      <td>2015.409</td>\n",
              "      <td>19</td>\n",
              "      <td>0</td>\n",
              "    </tr>\n",
              "    <tr>\n",
              "      <th>72102</th>\n",
              "      <td>2015</td>\n",
              "      <td>5</td>\n",
              "      <td>31</td>\n",
              "      <td>2015.411</td>\n",
              "      <td>17</td>\n",
              "      <td>0</td>\n",
              "    </tr>\n",
              "  </tbody>\n",
              "</table>\n",
              "<p>72103 rows × 6 columns</p>\n",
              "</div>"
            ],
            "text/plain": [
              "       1818  01  01.1  1818.004   -1  1\n",
              "0      1818   1     2  1818.007   -1  1\n",
              "1      1818   1     3  1818.010   -1  1\n",
              "2      1818   1     4  1818.012   -1  1\n",
              "3      1818   1     5  1818.015   -1  1\n",
              "4      1818   1     6  1818.018   -1  1\n",
              "...     ...  ..   ...       ...  ... ..\n",
              "72098  2015   5    27  2015.400    9  0\n",
              "72099  2015   5    28  2015.403    8  0\n",
              "72100  2015   5    29  2015.406   22  0\n",
              "72101  2015   5    30  2015.409   19  0\n",
              "72102  2015   5    31  2015.411   17  0\n",
              "\n",
              "[72103 rows x 6 columns]"
            ]
          },
          "metadata": {
            "tags": []
          },
          "execution_count": 31
        }
      ]
    },
    {
      "cell_type": "code",
      "metadata": {
        "id": "Fzf0F0kGrdYK",
        "colab_type": "code",
        "colab": {
          "base_uri": "https://localhost:8080/",
          "height": 235
        },
        "outputId": "bdaa3563-b46b-487b-a73f-a510b1eb1bb7"
      },
      "source": [
        "sunspots.info()"
      ],
      "execution_count": null,
      "outputs": [
        {
          "output_type": "stream",
          "text": [
            "<class 'pandas.core.frame.DataFrame'>\n",
            "RangeIndex: 72103 entries, 0 to 72102\n",
            "Data columns (total 6 columns):\n",
            " #   Column    Non-Null Count  Dtype  \n",
            "---  ------    --------------  -----  \n",
            " 0   1818      72103 non-null  int64  \n",
            " 1   01        72103 non-null  int64  \n",
            " 2   01.1      72103 non-null  int64  \n",
            " 3   1818.004  72103 non-null  float64\n",
            " 4    -1       72103 non-null  int64  \n",
            " 5   1         72103 non-null  int64  \n",
            "dtypes: float64(1), int64(5)\n",
            "memory usage: 3.3 MB\n"
          ],
          "name": "stdout"
        }
      ]
    },
    {
      "cell_type": "code",
      "metadata": {
        "id": "82fnS4D2rxJO",
        "colab_type": "code",
        "colab": {
          "base_uri": "https://localhost:8080/",
          "height": 639
        },
        "outputId": "a4d13e73-4af9-4e51-9a1f-775a4af8184a"
      },
      "source": [
        "sunspots.head(20)\n"
      ],
      "execution_count": null,
      "outputs": [
        {
          "output_type": "execute_result",
          "data": {
            "text/html": [
              "<div>\n",
              "<style scoped>\n",
              "    .dataframe tbody tr th:only-of-type {\n",
              "        vertical-align: middle;\n",
              "    }\n",
              "\n",
              "    .dataframe tbody tr th {\n",
              "        vertical-align: top;\n",
              "    }\n",
              "\n",
              "    .dataframe thead th {\n",
              "        text-align: right;\n",
              "    }\n",
              "</style>\n",
              "<table border=\"1\" class=\"dataframe\">\n",
              "  <thead>\n",
              "    <tr style=\"text-align: right;\">\n",
              "      <th></th>\n",
              "      <th>1818</th>\n",
              "      <th>01</th>\n",
              "      <th>01.1</th>\n",
              "      <th>1818.004</th>\n",
              "      <th>-1</th>\n",
              "      <th>1</th>\n",
              "    </tr>\n",
              "  </thead>\n",
              "  <tbody>\n",
              "    <tr>\n",
              "      <th>0</th>\n",
              "      <td>1818</td>\n",
              "      <td>1</td>\n",
              "      <td>2</td>\n",
              "      <td>1818.007</td>\n",
              "      <td>-1</td>\n",
              "      <td>1</td>\n",
              "    </tr>\n",
              "    <tr>\n",
              "      <th>1</th>\n",
              "      <td>1818</td>\n",
              "      <td>1</td>\n",
              "      <td>3</td>\n",
              "      <td>1818.010</td>\n",
              "      <td>-1</td>\n",
              "      <td>1</td>\n",
              "    </tr>\n",
              "    <tr>\n",
              "      <th>2</th>\n",
              "      <td>1818</td>\n",
              "      <td>1</td>\n",
              "      <td>4</td>\n",
              "      <td>1818.012</td>\n",
              "      <td>-1</td>\n",
              "      <td>1</td>\n",
              "    </tr>\n",
              "    <tr>\n",
              "      <th>3</th>\n",
              "      <td>1818</td>\n",
              "      <td>1</td>\n",
              "      <td>5</td>\n",
              "      <td>1818.015</td>\n",
              "      <td>-1</td>\n",
              "      <td>1</td>\n",
              "    </tr>\n",
              "    <tr>\n",
              "      <th>4</th>\n",
              "      <td>1818</td>\n",
              "      <td>1</td>\n",
              "      <td>6</td>\n",
              "      <td>1818.018</td>\n",
              "      <td>-1</td>\n",
              "      <td>1</td>\n",
              "    </tr>\n",
              "    <tr>\n",
              "      <th>5</th>\n",
              "      <td>1818</td>\n",
              "      <td>1</td>\n",
              "      <td>7</td>\n",
              "      <td>1818.021</td>\n",
              "      <td>-1</td>\n",
              "      <td>1</td>\n",
              "    </tr>\n",
              "    <tr>\n",
              "      <th>6</th>\n",
              "      <td>1818</td>\n",
              "      <td>1</td>\n",
              "      <td>8</td>\n",
              "      <td>1818.023</td>\n",
              "      <td>39</td>\n",
              "      <td>1</td>\n",
              "    </tr>\n",
              "    <tr>\n",
              "      <th>7</th>\n",
              "      <td>1818</td>\n",
              "      <td>1</td>\n",
              "      <td>9</td>\n",
              "      <td>1818.026</td>\n",
              "      <td>-1</td>\n",
              "      <td>1</td>\n",
              "    </tr>\n",
              "    <tr>\n",
              "      <th>8</th>\n",
              "      <td>1818</td>\n",
              "      <td>1</td>\n",
              "      <td>10</td>\n",
              "      <td>1818.029</td>\n",
              "      <td>-1</td>\n",
              "      <td>1</td>\n",
              "    </tr>\n",
              "    <tr>\n",
              "      <th>9</th>\n",
              "      <td>1818</td>\n",
              "      <td>1</td>\n",
              "      <td>11</td>\n",
              "      <td>1818.031</td>\n",
              "      <td>-1</td>\n",
              "      <td>1</td>\n",
              "    </tr>\n",
              "    <tr>\n",
              "      <th>10</th>\n",
              "      <td>1818</td>\n",
              "      <td>1</td>\n",
              "      <td>12</td>\n",
              "      <td>1818.034</td>\n",
              "      <td>-1</td>\n",
              "      <td>1</td>\n",
              "    </tr>\n",
              "    <tr>\n",
              "      <th>11</th>\n",
              "      <td>1818</td>\n",
              "      <td>1</td>\n",
              "      <td>13</td>\n",
              "      <td>1818.037</td>\n",
              "      <td>22</td>\n",
              "      <td>1</td>\n",
              "    </tr>\n",
              "    <tr>\n",
              "      <th>12</th>\n",
              "      <td>1818</td>\n",
              "      <td>1</td>\n",
              "      <td>14</td>\n",
              "      <td>1818.040</td>\n",
              "      <td>-1</td>\n",
              "      <td>1</td>\n",
              "    </tr>\n",
              "    <tr>\n",
              "      <th>13</th>\n",
              "      <td>1818</td>\n",
              "      <td>1</td>\n",
              "      <td>15</td>\n",
              "      <td>1818.042</td>\n",
              "      <td>-1</td>\n",
              "      <td>1</td>\n",
              "    </tr>\n",
              "    <tr>\n",
              "      <th>14</th>\n",
              "      <td>1818</td>\n",
              "      <td>1</td>\n",
              "      <td>16</td>\n",
              "      <td>1818.045</td>\n",
              "      <td>-1</td>\n",
              "      <td>1</td>\n",
              "    </tr>\n",
              "    <tr>\n",
              "      <th>15</th>\n",
              "      <td>1818</td>\n",
              "      <td>1</td>\n",
              "      <td>17</td>\n",
              "      <td>1818.048</td>\n",
              "      <td>46</td>\n",
              "      <td>1</td>\n",
              "    </tr>\n",
              "    <tr>\n",
              "      <th>16</th>\n",
              "      <td>1818</td>\n",
              "      <td>1</td>\n",
              "      <td>18</td>\n",
              "      <td>1818.051</td>\n",
              "      <td>59</td>\n",
              "      <td>1</td>\n",
              "    </tr>\n",
              "    <tr>\n",
              "      <th>17</th>\n",
              "      <td>1818</td>\n",
              "      <td>1</td>\n",
              "      <td>19</td>\n",
              "      <td>1818.053</td>\n",
              "      <td>63</td>\n",
              "      <td>1</td>\n",
              "    </tr>\n",
              "    <tr>\n",
              "      <th>18</th>\n",
              "      <td>1818</td>\n",
              "      <td>1</td>\n",
              "      <td>20</td>\n",
              "      <td>1818.056</td>\n",
              "      <td>-1</td>\n",
              "      <td>1</td>\n",
              "    </tr>\n",
              "    <tr>\n",
              "      <th>19</th>\n",
              "      <td>1818</td>\n",
              "      <td>1</td>\n",
              "      <td>21</td>\n",
              "      <td>1818.059</td>\n",
              "      <td>-1</td>\n",
              "      <td>1</td>\n",
              "    </tr>\n",
              "  </tbody>\n",
              "</table>\n",
              "</div>"
            ],
            "text/plain": [
              "    1818  01  01.1  1818.004   -1  1\n",
              "0   1818   1     2  1818.007   -1  1\n",
              "1   1818   1     3  1818.010   -1  1\n",
              "2   1818   1     4  1818.012   -1  1\n",
              "3   1818   1     5  1818.015   -1  1\n",
              "4   1818   1     6  1818.018   -1  1\n",
              "5   1818   1     7  1818.021   -1  1\n",
              "6   1818   1     8  1818.023   39  1\n",
              "7   1818   1     9  1818.026   -1  1\n",
              "8   1818   1    10  1818.029   -1  1\n",
              "9   1818   1    11  1818.031   -1  1\n",
              "10  1818   1    12  1818.034   -1  1\n",
              "11  1818   1    13  1818.037   22  1\n",
              "12  1818   1    14  1818.040   -1  1\n",
              "13  1818   1    15  1818.042   -1  1\n",
              "14  1818   1    16  1818.045   -1  1\n",
              "15  1818   1    17  1818.048   46  1\n",
              "16  1818   1    18  1818.051   59  1\n",
              "17  1818   1    19  1818.053   63  1\n",
              "18  1818   1    20  1818.056   -1  1\n",
              "19  1818   1    21  1818.059   -1  1"
            ]
          },
          "metadata": {
            "tags": []
          },
          "execution_count": 33
        }
      ]
    },
    {
      "cell_type": "markdown",
      "metadata": {
        "id": "P7jm6Zqrr8dB",
        "colab_type": "text"
      },
      "source": [
        "Problems with Current Dataset \n",
        "1. columns 0 to 2 : Gregorian date (year , month, day)\n",
        "2. col 3: Date as fraction as year\n",
        "3. col 4: Daily total sunspot number\n",
        "4. col 5: Definitive / provisional indicator( 1 to 0)\n",
        "5. Missing values in col 4: indicated by -1\n",
        "6. Dates Respresenation inconvinent"
      ]
    },
    {
      "cell_type": "code",
      "metadata": {
        "id": "QpbdyGeGr4zx",
        "colab_type": "code",
        "colab": {
          "base_uri": "https://localhost:8080/",
          "height": 166
        },
        "outputId": "f8d4b329-52c2-4ec8-99c3-52f3ee646f5b"
      },
      "source": [
        "sunspots.head(4)"
      ],
      "execution_count": null,
      "outputs": [
        {
          "output_type": "execute_result",
          "data": {
            "text/html": [
              "<div>\n",
              "<style scoped>\n",
              "    .dataframe tbody tr th:only-of-type {\n",
              "        vertical-align: middle;\n",
              "    }\n",
              "\n",
              "    .dataframe tbody tr th {\n",
              "        vertical-align: top;\n",
              "    }\n",
              "\n",
              "    .dataframe thead th {\n",
              "        text-align: right;\n",
              "    }\n",
              "</style>\n",
              "<table border=\"1\" class=\"dataframe\">\n",
              "  <thead>\n",
              "    <tr style=\"text-align: right;\">\n",
              "      <th></th>\n",
              "      <th>1818</th>\n",
              "      <th>01</th>\n",
              "      <th>01.1</th>\n",
              "      <th>1818.004</th>\n",
              "      <th>-1</th>\n",
              "      <th>1</th>\n",
              "    </tr>\n",
              "  </thead>\n",
              "  <tbody>\n",
              "    <tr>\n",
              "      <th>0</th>\n",
              "      <td>1818</td>\n",
              "      <td>1</td>\n",
              "      <td>2</td>\n",
              "      <td>1818.007</td>\n",
              "      <td>-1</td>\n",
              "      <td>1</td>\n",
              "    </tr>\n",
              "    <tr>\n",
              "      <th>1</th>\n",
              "      <td>1818</td>\n",
              "      <td>1</td>\n",
              "      <td>3</td>\n",
              "      <td>1818.010</td>\n",
              "      <td>-1</td>\n",
              "      <td>1</td>\n",
              "    </tr>\n",
              "    <tr>\n",
              "      <th>2</th>\n",
              "      <td>1818</td>\n",
              "      <td>1</td>\n",
              "      <td>4</td>\n",
              "      <td>1818.012</td>\n",
              "      <td>-1</td>\n",
              "      <td>1</td>\n",
              "    </tr>\n",
              "    <tr>\n",
              "      <th>3</th>\n",
              "      <td>1818</td>\n",
              "      <td>1</td>\n",
              "      <td>5</td>\n",
              "      <td>1818.015</td>\n",
              "      <td>-1</td>\n",
              "      <td>1</td>\n",
              "    </tr>\n",
              "  </tbody>\n",
              "</table>\n",
              "</div>"
            ],
            "text/plain": [
              "   1818  01  01.1  1818.004   -1  1\n",
              "0  1818   1     2  1818.007   -1  1\n",
              "1  1818   1     3  1818.010   -1  1\n",
              "2  1818   1     4  1818.012   -1  1\n",
              "3  1818   1     5  1818.015   -1  1"
            ]
          },
          "metadata": {
            "tags": []
          },
          "execution_count": 34
        }
      ]
    },
    {
      "cell_type": "markdown",
      "metadata": {
        "id": "w3Jx2IWBsmu_",
        "colab_type": "text"
      },
      "source": [
        "Using names keyword"
      ]
    },
    {
      "cell_type": "code",
      "metadata": {
        "id": "1e-yY_0wsc7N",
        "colab_type": "code",
        "colab": {
          "base_uri": "https://localhost:8080/",
          "height": 402
        },
        "outputId": "e9449582-6864-44d9-9705-e6e71a5f0a25"
      },
      "source": [
        "col_names = ['year','month','date',\n",
        "             'sunspots','definite']\n",
        "sunspots = pd.read_csv('ISSN_D_tot.csv', header=None ,names=col_names)  \n",
        "sunspots           "
      ],
      "execution_count": null,
      "outputs": [
        {
          "output_type": "execute_result",
          "data": {
            "text/html": [
              "<div>\n",
              "<style scoped>\n",
              "    .dataframe tbody tr th:only-of-type {\n",
              "        vertical-align: middle;\n",
              "    }\n",
              "\n",
              "    .dataframe tbody tr th {\n",
              "        vertical-align: top;\n",
              "    }\n",
              "\n",
              "    .dataframe thead th {\n",
              "        text-align: right;\n",
              "    }\n",
              "</style>\n",
              "<table border=\"1\" class=\"dataframe\">\n",
              "  <thead>\n",
              "    <tr style=\"text-align: right;\">\n",
              "      <th></th>\n",
              "      <th>year</th>\n",
              "      <th>month</th>\n",
              "      <th>date</th>\n",
              "      <th>sunspots</th>\n",
              "      <th>definite</th>\n",
              "    </tr>\n",
              "  </thead>\n",
              "  <tbody>\n",
              "    <tr>\n",
              "      <th>1818</th>\n",
              "      <td>1</td>\n",
              "      <td>1</td>\n",
              "      <td>1818.004</td>\n",
              "      <td>-1</td>\n",
              "      <td>1</td>\n",
              "    </tr>\n",
              "    <tr>\n",
              "      <th>1818</th>\n",
              "      <td>1</td>\n",
              "      <td>2</td>\n",
              "      <td>1818.007</td>\n",
              "      <td>-1</td>\n",
              "      <td>1</td>\n",
              "    </tr>\n",
              "    <tr>\n",
              "      <th>1818</th>\n",
              "      <td>1</td>\n",
              "      <td>3</td>\n",
              "      <td>1818.010</td>\n",
              "      <td>-1</td>\n",
              "      <td>1</td>\n",
              "    </tr>\n",
              "    <tr>\n",
              "      <th>1818</th>\n",
              "      <td>1</td>\n",
              "      <td>4</td>\n",
              "      <td>1818.012</td>\n",
              "      <td>-1</td>\n",
              "      <td>1</td>\n",
              "    </tr>\n",
              "    <tr>\n",
              "      <th>1818</th>\n",
              "      <td>1</td>\n",
              "      <td>5</td>\n",
              "      <td>1818.015</td>\n",
              "      <td>-1</td>\n",
              "      <td>1</td>\n",
              "    </tr>\n",
              "    <tr>\n",
              "      <th>...</th>\n",
              "      <td>...</td>\n",
              "      <td>...</td>\n",
              "      <td>...</td>\n",
              "      <td>...</td>\n",
              "      <td>...</td>\n",
              "    </tr>\n",
              "    <tr>\n",
              "      <th>2015</th>\n",
              "      <td>5</td>\n",
              "      <td>27</td>\n",
              "      <td>2015.400</td>\n",
              "      <td>9</td>\n",
              "      <td>0</td>\n",
              "    </tr>\n",
              "    <tr>\n",
              "      <th>2015</th>\n",
              "      <td>5</td>\n",
              "      <td>28</td>\n",
              "      <td>2015.403</td>\n",
              "      <td>8</td>\n",
              "      <td>0</td>\n",
              "    </tr>\n",
              "    <tr>\n",
              "      <th>2015</th>\n",
              "      <td>5</td>\n",
              "      <td>29</td>\n",
              "      <td>2015.406</td>\n",
              "      <td>22</td>\n",
              "      <td>0</td>\n",
              "    </tr>\n",
              "    <tr>\n",
              "      <th>2015</th>\n",
              "      <td>5</td>\n",
              "      <td>30</td>\n",
              "      <td>2015.409</td>\n",
              "      <td>19</td>\n",
              "      <td>0</td>\n",
              "    </tr>\n",
              "    <tr>\n",
              "      <th>2015</th>\n",
              "      <td>5</td>\n",
              "      <td>31</td>\n",
              "      <td>2015.411</td>\n",
              "      <td>17</td>\n",
              "      <td>0</td>\n",
              "    </tr>\n",
              "  </tbody>\n",
              "</table>\n",
              "<p>72104 rows × 5 columns</p>\n",
              "</div>"
            ],
            "text/plain": [
              "      year  month      date  sunspots  definite\n",
              "1818     1      1  1818.004        -1         1\n",
              "1818     1      2  1818.007        -1         1\n",
              "1818     1      3  1818.010        -1         1\n",
              "1818     1      4  1818.012        -1         1\n",
              "1818     1      5  1818.015        -1         1\n",
              "...    ...    ...       ...       ...       ...\n",
              "2015     5     27  2015.400         9         0\n",
              "2015     5     28  2015.403         8         0\n",
              "2015     5     29  2015.406        22         0\n",
              "2015     5     30  2015.409        19         0\n",
              "2015     5     31  2015.411        17         0\n",
              "\n",
              "[72104 rows x 5 columns]"
            ]
          },
          "metadata": {
            "tags": []
          },
          "execution_count": 37
        }
      ]
    },
    {
      "cell_type": "markdown",
      "metadata": {
        "id": "YLYKGXGStZQ0",
        "colab_type": "text"
      },
      "source": [
        "Using na_values keyword(1)"
      ]
    },
    {
      "cell_type": "code",
      "metadata": {
        "id": "Py-cD5bss_BY",
        "colab_type": "code",
        "colab": {
          "base_uri": "https://localhost:8080/",
          "height": 402
        },
        "outputId": "5787531c-663b-4dcc-b8fb-97023d23f151"
      },
      "source": [
        "col_names = ['year','month','date',\n",
        "             'sunspots','definite']\n",
        "sunspots = pd.read_csv('ISSN_D_tot.csv', header=None ,names=col_names , na_values='-1')  \n",
        "sunspots  "
      ],
      "execution_count": null,
      "outputs": [
        {
          "output_type": "execute_result",
          "data": {
            "text/html": [
              "<div>\n",
              "<style scoped>\n",
              "    .dataframe tbody tr th:only-of-type {\n",
              "        vertical-align: middle;\n",
              "    }\n",
              "\n",
              "    .dataframe tbody tr th {\n",
              "        vertical-align: top;\n",
              "    }\n",
              "\n",
              "    .dataframe thead th {\n",
              "        text-align: right;\n",
              "    }\n",
              "</style>\n",
              "<table border=\"1\" class=\"dataframe\">\n",
              "  <thead>\n",
              "    <tr style=\"text-align: right;\">\n",
              "      <th></th>\n",
              "      <th>year</th>\n",
              "      <th>month</th>\n",
              "      <th>date</th>\n",
              "      <th>sunspots</th>\n",
              "      <th>definite</th>\n",
              "    </tr>\n",
              "  </thead>\n",
              "  <tbody>\n",
              "    <tr>\n",
              "      <th>1818</th>\n",
              "      <td>1</td>\n",
              "      <td>1</td>\n",
              "      <td>1818.004</td>\n",
              "      <td>-1</td>\n",
              "      <td>1</td>\n",
              "    </tr>\n",
              "    <tr>\n",
              "      <th>1818</th>\n",
              "      <td>1</td>\n",
              "      <td>2</td>\n",
              "      <td>1818.007</td>\n",
              "      <td>-1</td>\n",
              "      <td>1</td>\n",
              "    </tr>\n",
              "    <tr>\n",
              "      <th>1818</th>\n",
              "      <td>1</td>\n",
              "      <td>3</td>\n",
              "      <td>1818.010</td>\n",
              "      <td>-1</td>\n",
              "      <td>1</td>\n",
              "    </tr>\n",
              "    <tr>\n",
              "      <th>1818</th>\n",
              "      <td>1</td>\n",
              "      <td>4</td>\n",
              "      <td>1818.012</td>\n",
              "      <td>-1</td>\n",
              "      <td>1</td>\n",
              "    </tr>\n",
              "    <tr>\n",
              "      <th>1818</th>\n",
              "      <td>1</td>\n",
              "      <td>5</td>\n",
              "      <td>1818.015</td>\n",
              "      <td>-1</td>\n",
              "      <td>1</td>\n",
              "    </tr>\n",
              "    <tr>\n",
              "      <th>...</th>\n",
              "      <td>...</td>\n",
              "      <td>...</td>\n",
              "      <td>...</td>\n",
              "      <td>...</td>\n",
              "      <td>...</td>\n",
              "    </tr>\n",
              "    <tr>\n",
              "      <th>2015</th>\n",
              "      <td>5</td>\n",
              "      <td>27</td>\n",
              "      <td>2015.400</td>\n",
              "      <td>9</td>\n",
              "      <td>0</td>\n",
              "    </tr>\n",
              "    <tr>\n",
              "      <th>2015</th>\n",
              "      <td>5</td>\n",
              "      <td>28</td>\n",
              "      <td>2015.403</td>\n",
              "      <td>8</td>\n",
              "      <td>0</td>\n",
              "    </tr>\n",
              "    <tr>\n",
              "      <th>2015</th>\n",
              "      <td>5</td>\n",
              "      <td>29</td>\n",
              "      <td>2015.406</td>\n",
              "      <td>22</td>\n",
              "      <td>0</td>\n",
              "    </tr>\n",
              "    <tr>\n",
              "      <th>2015</th>\n",
              "      <td>5</td>\n",
              "      <td>30</td>\n",
              "      <td>2015.409</td>\n",
              "      <td>19</td>\n",
              "      <td>0</td>\n",
              "    </tr>\n",
              "    <tr>\n",
              "      <th>2015</th>\n",
              "      <td>5</td>\n",
              "      <td>31</td>\n",
              "      <td>2015.411</td>\n",
              "      <td>17</td>\n",
              "      <td>0</td>\n",
              "    </tr>\n",
              "  </tbody>\n",
              "</table>\n",
              "<p>72104 rows × 5 columns</p>\n",
              "</div>"
            ],
            "text/plain": [
              "      year  month      date  sunspots  definite\n",
              "1818     1      1  1818.004        -1         1\n",
              "1818     1      2  1818.007        -1         1\n",
              "1818     1      3  1818.010        -1         1\n",
              "1818     1      4  1818.012        -1         1\n",
              "1818     1      5  1818.015        -1         1\n",
              "...    ...    ...       ...       ...       ...\n",
              "2015     5     27  2015.400         9         0\n",
              "2015     5     28  2015.403         8         0\n",
              "2015     5     29  2015.406        22         0\n",
              "2015     5     30  2015.409        19         0\n",
              "2015     5     31  2015.411        17         0\n",
              "\n",
              "[72104 rows x 5 columns]"
            ]
          },
          "metadata": {
            "tags": []
          },
          "execution_count": 38
        }
      ]
    },
    {
      "cell_type": "code",
      "metadata": {
        "id": "O4-XhvT4tlfZ",
        "colab_type": "code",
        "colab": {
          "base_uri": "https://localhost:8080/",
          "height": 136
        },
        "outputId": "a1cae36f-7d1e-48d3-8b7b-4d1e2749e419"
      },
      "source": [
        "sunspots.head(3)"
      ],
      "execution_count": null,
      "outputs": [
        {
          "output_type": "execute_result",
          "data": {
            "text/html": [
              "<div>\n",
              "<style scoped>\n",
              "    .dataframe tbody tr th:only-of-type {\n",
              "        vertical-align: middle;\n",
              "    }\n",
              "\n",
              "    .dataframe tbody tr th {\n",
              "        vertical-align: top;\n",
              "    }\n",
              "\n",
              "    .dataframe thead th {\n",
              "        text-align: right;\n",
              "    }\n",
              "</style>\n",
              "<table border=\"1\" class=\"dataframe\">\n",
              "  <thead>\n",
              "    <tr style=\"text-align: right;\">\n",
              "      <th></th>\n",
              "      <th>year</th>\n",
              "      <th>month</th>\n",
              "      <th>date</th>\n",
              "      <th>sunspots</th>\n",
              "      <th>definite</th>\n",
              "    </tr>\n",
              "  </thead>\n",
              "  <tbody>\n",
              "    <tr>\n",
              "      <th>1818</th>\n",
              "      <td>1</td>\n",
              "      <td>1</td>\n",
              "      <td>1818.004</td>\n",
              "      <td>-1</td>\n",
              "      <td>1</td>\n",
              "    </tr>\n",
              "    <tr>\n",
              "      <th>1818</th>\n",
              "      <td>1</td>\n",
              "      <td>2</td>\n",
              "      <td>1818.007</td>\n",
              "      <td>-1</td>\n",
              "      <td>1</td>\n",
              "    </tr>\n",
              "    <tr>\n",
              "      <th>1818</th>\n",
              "      <td>1</td>\n",
              "      <td>3</td>\n",
              "      <td>1818.010</td>\n",
              "      <td>-1</td>\n",
              "      <td>1</td>\n",
              "    </tr>\n",
              "  </tbody>\n",
              "</table>\n",
              "</div>"
            ],
            "text/plain": [
              "      year  month      date  sunspots  definite\n",
              "1818     1      1  1818.004        -1         1\n",
              "1818     1      2  1818.007        -1         1\n",
              "1818     1      3  1818.010        -1         1"
            ]
          },
          "metadata": {
            "tags": []
          },
          "execution_count": 39
        }
      ]
    },
    {
      "cell_type": "code",
      "metadata": {
        "id": "ZmE9FiWbtoZM",
        "colab_type": "code",
        "colab": {
          "base_uri": "https://localhost:8080/",
          "height": 402
        },
        "outputId": "e10a075b-65bf-4b5b-b0de-298d1d9afa6e"
      },
      "source": [
        "col_names = ['year','month','date',\n",
        "             'sunspots','definite']\n",
        "sunspots = pd.read_csv('ISSN_D_tot.csv', header=None ,names=col_names , na_values=' -1')  \n",
        "sunspots "
      ],
      "execution_count": null,
      "outputs": [
        {
          "output_type": "execute_result",
          "data": {
            "text/html": [
              "<div>\n",
              "<style scoped>\n",
              "    .dataframe tbody tr th:only-of-type {\n",
              "        vertical-align: middle;\n",
              "    }\n",
              "\n",
              "    .dataframe tbody tr th {\n",
              "        vertical-align: top;\n",
              "    }\n",
              "\n",
              "    .dataframe thead th {\n",
              "        text-align: right;\n",
              "    }\n",
              "</style>\n",
              "<table border=\"1\" class=\"dataframe\">\n",
              "  <thead>\n",
              "    <tr style=\"text-align: right;\">\n",
              "      <th></th>\n",
              "      <th>year</th>\n",
              "      <th>month</th>\n",
              "      <th>date</th>\n",
              "      <th>sunspots</th>\n",
              "      <th>definite</th>\n",
              "    </tr>\n",
              "  </thead>\n",
              "  <tbody>\n",
              "    <tr>\n",
              "      <th>1818</th>\n",
              "      <td>1</td>\n",
              "      <td>1</td>\n",
              "      <td>1818.004</td>\n",
              "      <td>NaN</td>\n",
              "      <td>1</td>\n",
              "    </tr>\n",
              "    <tr>\n",
              "      <th>1818</th>\n",
              "      <td>1</td>\n",
              "      <td>2</td>\n",
              "      <td>1818.007</td>\n",
              "      <td>NaN</td>\n",
              "      <td>1</td>\n",
              "    </tr>\n",
              "    <tr>\n",
              "      <th>1818</th>\n",
              "      <td>1</td>\n",
              "      <td>3</td>\n",
              "      <td>1818.010</td>\n",
              "      <td>NaN</td>\n",
              "      <td>1</td>\n",
              "    </tr>\n",
              "    <tr>\n",
              "      <th>1818</th>\n",
              "      <td>1</td>\n",
              "      <td>4</td>\n",
              "      <td>1818.012</td>\n",
              "      <td>NaN</td>\n",
              "      <td>1</td>\n",
              "    </tr>\n",
              "    <tr>\n",
              "      <th>1818</th>\n",
              "      <td>1</td>\n",
              "      <td>5</td>\n",
              "      <td>1818.015</td>\n",
              "      <td>NaN</td>\n",
              "      <td>1</td>\n",
              "    </tr>\n",
              "    <tr>\n",
              "      <th>...</th>\n",
              "      <td>...</td>\n",
              "      <td>...</td>\n",
              "      <td>...</td>\n",
              "      <td>...</td>\n",
              "      <td>...</td>\n",
              "    </tr>\n",
              "    <tr>\n",
              "      <th>2015</th>\n",
              "      <td>5</td>\n",
              "      <td>27</td>\n",
              "      <td>2015.400</td>\n",
              "      <td>9.0</td>\n",
              "      <td>0</td>\n",
              "    </tr>\n",
              "    <tr>\n",
              "      <th>2015</th>\n",
              "      <td>5</td>\n",
              "      <td>28</td>\n",
              "      <td>2015.403</td>\n",
              "      <td>8.0</td>\n",
              "      <td>0</td>\n",
              "    </tr>\n",
              "    <tr>\n",
              "      <th>2015</th>\n",
              "      <td>5</td>\n",
              "      <td>29</td>\n",
              "      <td>2015.406</td>\n",
              "      <td>22.0</td>\n",
              "      <td>0</td>\n",
              "    </tr>\n",
              "    <tr>\n",
              "      <th>2015</th>\n",
              "      <td>5</td>\n",
              "      <td>30</td>\n",
              "      <td>2015.409</td>\n",
              "      <td>19.0</td>\n",
              "      <td>0</td>\n",
              "    </tr>\n",
              "    <tr>\n",
              "      <th>2015</th>\n",
              "      <td>5</td>\n",
              "      <td>31</td>\n",
              "      <td>2015.411</td>\n",
              "      <td>17.0</td>\n",
              "      <td>0</td>\n",
              "    </tr>\n",
              "  </tbody>\n",
              "</table>\n",
              "<p>72104 rows × 5 columns</p>\n",
              "</div>"
            ],
            "text/plain": [
              "      year  month      date  sunspots  definite\n",
              "1818     1      1  1818.004       NaN         1\n",
              "1818     1      2  1818.007       NaN         1\n",
              "1818     1      3  1818.010       NaN         1\n",
              "1818     1      4  1818.012       NaN         1\n",
              "1818     1      5  1818.015       NaN         1\n",
              "...    ...    ...       ...       ...       ...\n",
              "2015     5     27  2015.400       9.0         0\n",
              "2015     5     28  2015.403       8.0         0\n",
              "2015     5     29  2015.406      22.0         0\n",
              "2015     5     30  2015.409      19.0         0\n",
              "2015     5     31  2015.411      17.0         0\n",
              "\n",
              "[72104 rows x 5 columns]"
            ]
          },
          "metadata": {
            "tags": []
          },
          "execution_count": 40
        }
      ]
    },
    {
      "cell_type": "code",
      "metadata": {
        "id": "lkfgEFirtyBv",
        "colab_type": "code",
        "colab": {
          "base_uri": "https://localhost:8080/",
          "height": 166
        },
        "outputId": "b39ca6b3-a90f-446d-a779-13463fe715d0"
      },
      "source": [
        "sunspots.head(4)"
      ],
      "execution_count": null,
      "outputs": [
        {
          "output_type": "execute_result",
          "data": {
            "text/html": [
              "<div>\n",
              "<style scoped>\n",
              "    .dataframe tbody tr th:only-of-type {\n",
              "        vertical-align: middle;\n",
              "    }\n",
              "\n",
              "    .dataframe tbody tr th {\n",
              "        vertical-align: top;\n",
              "    }\n",
              "\n",
              "    .dataframe thead th {\n",
              "        text-align: right;\n",
              "    }\n",
              "</style>\n",
              "<table border=\"1\" class=\"dataframe\">\n",
              "  <thead>\n",
              "    <tr style=\"text-align: right;\">\n",
              "      <th></th>\n",
              "      <th>year</th>\n",
              "      <th>month</th>\n",
              "      <th>date</th>\n",
              "      <th>sunspots</th>\n",
              "      <th>definite</th>\n",
              "    </tr>\n",
              "  </thead>\n",
              "  <tbody>\n",
              "    <tr>\n",
              "      <th>1818</th>\n",
              "      <td>1</td>\n",
              "      <td>1</td>\n",
              "      <td>1818.004</td>\n",
              "      <td>NaN</td>\n",
              "      <td>1</td>\n",
              "    </tr>\n",
              "    <tr>\n",
              "      <th>1818</th>\n",
              "      <td>1</td>\n",
              "      <td>2</td>\n",
              "      <td>1818.007</td>\n",
              "      <td>NaN</td>\n",
              "      <td>1</td>\n",
              "    </tr>\n",
              "    <tr>\n",
              "      <th>1818</th>\n",
              "      <td>1</td>\n",
              "      <td>3</td>\n",
              "      <td>1818.010</td>\n",
              "      <td>NaN</td>\n",
              "      <td>1</td>\n",
              "    </tr>\n",
              "    <tr>\n",
              "      <th>1818</th>\n",
              "      <td>1</td>\n",
              "      <td>4</td>\n",
              "      <td>1818.012</td>\n",
              "      <td>NaN</td>\n",
              "      <td>1</td>\n",
              "    </tr>\n",
              "  </tbody>\n",
              "</table>\n",
              "</div>"
            ],
            "text/plain": [
              "      year  month      date  sunspots  definite\n",
              "1818     1      1  1818.004       NaN         1\n",
              "1818     1      2  1818.007       NaN         1\n",
              "1818     1      3  1818.010       NaN         1\n",
              "1818     1      4  1818.012       NaN         1"
            ]
          },
          "metadata": {
            "tags": []
          },
          "execution_count": 41
        }
      ]
    },
    {
      "cell_type": "code",
      "metadata": {
        "id": "fJGfpRnjt0qU",
        "colab_type": "code",
        "colab": {
          "base_uri": "https://localhost:8080/",
          "height": 218
        },
        "outputId": "3bd91e07-b68e-4837-9cf4-86d16e304326"
      },
      "source": [
        "sunspots.info()"
      ],
      "execution_count": null,
      "outputs": [
        {
          "output_type": "stream",
          "text": [
            "<class 'pandas.core.frame.DataFrame'>\n",
            "Int64Index: 72104 entries, 1818 to 2015\n",
            "Data columns (total 5 columns):\n",
            " #   Column    Non-Null Count  Dtype  \n",
            "---  ------    --------------  -----  \n",
            " 0   year      72104 non-null  int64  \n",
            " 1   month     72104 non-null  int64  \n",
            " 2   date      72104 non-null  float64\n",
            " 3   sunspots  68857 non-null  float64\n",
            " 4   definite  72104 non-null  int64  \n",
            "dtypes: float64(2), int64(3)\n",
            "memory usage: 3.3 MB\n"
          ],
          "name": "stdout"
        }
      ]
    },
    {
      "cell_type": "markdown",
      "metadata": {
        "id": "1t5iMNVducVK",
        "colab_type": "text"
      },
      "source": [
        "using dates as index"
      ]
    },
    {
      "cell_type": "code",
      "metadata": {
        "id": "en1JUzlluNBY",
        "colab_type": "code",
        "colab": {
          "base_uri": "https://localhost:8080/",
          "height": 218
        },
        "outputId": "8778e829-1143-498b-c65f-aafeb1ae8748"
      },
      "source": [
        "sunspots.info()"
      ],
      "execution_count": null,
      "outputs": [
        {
          "output_type": "stream",
          "text": [
            "<class 'pandas.core.frame.DataFrame'>\n",
            "Int64Index: 72104 entries, 1818 to 2015\n",
            "Data columns (total 5 columns):\n",
            " #   Column    Non-Null Count  Dtype  \n",
            "---  ------    --------------  -----  \n",
            " 0   year      72104 non-null  int64  \n",
            " 1   month     72104 non-null  int64  \n",
            " 2   date      72104 non-null  float64\n",
            " 3   sunspots  68857 non-null  float64\n",
            " 4   definite  72104 non-null  int64  \n",
            "dtypes: float64(2), int64(3)\n",
            "memory usage: 3.3 MB\n"
          ],
          "name": "stdout"
        }
      ]
    },
    {
      "cell_type": "markdown",
      "metadata": {
        "id": "oP88OC2ju6_c",
        "colab_type": "text"
      },
      "source": [
        "Try to Do Some Basic Level of Plot using Pandas"
      ]
    },
    {
      "cell_type": "code",
      "metadata": {
        "id": "e1EFFl2kurQ7",
        "colab_type": "code",
        "colab": {}
      },
      "source": [
        "import matplotlib.pyplot as plt "
      ],
      "execution_count": null,
      "outputs": []
    },
    {
      "cell_type": "code",
      "metadata": {
        "id": "9Z6vBXW7vCq_",
        "colab_type": "code",
        "colab": {
          "base_uri": "https://localhost:8080/",
          "height": 252
        },
        "outputId": "c730e92d-8c1e-4b56-fb35-a31f9772a2aa"
      },
      "source": [
        "APPL.info()"
      ],
      "execution_count": null,
      "outputs": [
        {
          "output_type": "stream",
          "text": [
            "<class 'pandas.core.frame.DataFrame'>\n",
            "RangeIndex: 253 entries, 0 to 252\n",
            "Data columns (total 7 columns):\n",
            " #   Column     Non-Null Count  Dtype  \n",
            "---  ------     --------------  -----  \n",
            " 0   Date       253 non-null    object \n",
            " 1   Open       253 non-null    float64\n",
            " 2   High       253 non-null    float64\n",
            " 3   Low        253 non-null    float64\n",
            " 4   Close      253 non-null    float64\n",
            " 5   Adj Close  253 non-null    float64\n",
            " 6   Volume     253 non-null    int64  \n",
            "dtypes: float64(5), int64(1), object(1)\n",
            "memory usage: 14.0+ KB\n"
          ],
          "name": "stdout"
        }
      ]
    },
    {
      "cell_type": "code",
      "metadata": {
        "id": "gn6xFl_1vTub",
        "colab_type": "code",
        "colab": {
          "base_uri": "https://localhost:8080/",
          "height": 402
        },
        "outputId": "1091ee92-6bd2-45c1-e29e-8e1f9cd4261c"
      },
      "source": [
        "APPL"
      ],
      "execution_count": null,
      "outputs": [
        {
          "output_type": "execute_result",
          "data": {
            "text/html": [
              "<div>\n",
              "<style scoped>\n",
              "    .dataframe tbody tr th:only-of-type {\n",
              "        vertical-align: middle;\n",
              "    }\n",
              "\n",
              "    .dataframe tbody tr th {\n",
              "        vertical-align: top;\n",
              "    }\n",
              "\n",
              "    .dataframe thead th {\n",
              "        text-align: right;\n",
              "    }\n",
              "</style>\n",
              "<table border=\"1\" class=\"dataframe\">\n",
              "  <thead>\n",
              "    <tr style=\"text-align: right;\">\n",
              "      <th></th>\n",
              "      <th>Date</th>\n",
              "      <th>Open</th>\n",
              "      <th>High</th>\n",
              "      <th>Low</th>\n",
              "      <th>Close</th>\n",
              "      <th>Adj Close</th>\n",
              "      <th>Volume</th>\n",
              "    </tr>\n",
              "  </thead>\n",
              "  <tbody>\n",
              "    <tr>\n",
              "      <th>0</th>\n",
              "      <td>2019-04-29</td>\n",
              "      <td>204.399994</td>\n",
              "      <td>205.970001</td>\n",
              "      <td>203.860001</td>\n",
              "      <td>204.610001</td>\n",
              "      <td>201.966461</td>\n",
              "      <td>22204700</td>\n",
              "    </tr>\n",
              "    <tr>\n",
              "      <th>1</th>\n",
              "      <td>2019-04-30</td>\n",
              "      <td>203.059998</td>\n",
              "      <td>203.399994</td>\n",
              "      <td>199.110001</td>\n",
              "      <td>200.669998</td>\n",
              "      <td>198.077362</td>\n",
              "      <td>46534900</td>\n",
              "    </tr>\n",
              "    <tr>\n",
              "      <th>2</th>\n",
              "      <td>2019-05-01</td>\n",
              "      <td>209.880005</td>\n",
              "      <td>215.309998</td>\n",
              "      <td>209.229996</td>\n",
              "      <td>210.520004</td>\n",
              "      <td>207.800110</td>\n",
              "      <td>64827300</td>\n",
              "    </tr>\n",
              "    <tr>\n",
              "      <th>3</th>\n",
              "      <td>2019-05-02</td>\n",
              "      <td>209.839996</td>\n",
              "      <td>212.649994</td>\n",
              "      <td>208.130005</td>\n",
              "      <td>209.149994</td>\n",
              "      <td>206.447800</td>\n",
              "      <td>31996300</td>\n",
              "    </tr>\n",
              "    <tr>\n",
              "      <th>4</th>\n",
              "      <td>2019-05-03</td>\n",
              "      <td>210.889999</td>\n",
              "      <td>211.839996</td>\n",
              "      <td>210.229996</td>\n",
              "      <td>211.750000</td>\n",
              "      <td>209.014221</td>\n",
              "      <td>20892400</td>\n",
              "    </tr>\n",
              "    <tr>\n",
              "      <th>...</th>\n",
              "      <td>...</td>\n",
              "      <td>...</td>\n",
              "      <td>...</td>\n",
              "      <td>...</td>\n",
              "      <td>...</td>\n",
              "      <td>...</td>\n",
              "      <td>...</td>\n",
              "    </tr>\n",
              "    <tr>\n",
              "      <th>248</th>\n",
              "      <td>2020-04-22</td>\n",
              "      <td>273.609985</td>\n",
              "      <td>277.899994</td>\n",
              "      <td>272.200012</td>\n",
              "      <td>276.100006</td>\n",
              "      <td>276.100006</td>\n",
              "      <td>29264300</td>\n",
              "    </tr>\n",
              "    <tr>\n",
              "      <th>249</th>\n",
              "      <td>2020-04-23</td>\n",
              "      <td>275.869995</td>\n",
              "      <td>281.750000</td>\n",
              "      <td>274.869995</td>\n",
              "      <td>275.029999</td>\n",
              "      <td>275.029999</td>\n",
              "      <td>31203600</td>\n",
              "    </tr>\n",
              "    <tr>\n",
              "      <th>250</th>\n",
              "      <td>2020-04-24</td>\n",
              "      <td>277.200012</td>\n",
              "      <td>283.010010</td>\n",
              "      <td>277.000000</td>\n",
              "      <td>282.970001</td>\n",
              "      <td>282.970001</td>\n",
              "      <td>31627200</td>\n",
              "    </tr>\n",
              "    <tr>\n",
              "      <th>251</th>\n",
              "      <td>2020-04-27</td>\n",
              "      <td>281.799988</td>\n",
              "      <td>284.540009</td>\n",
              "      <td>279.950012</td>\n",
              "      <td>283.170013</td>\n",
              "      <td>283.170013</td>\n",
              "      <td>29236400</td>\n",
              "    </tr>\n",
              "    <tr>\n",
              "      <th>252</th>\n",
              "      <td>2020-04-28</td>\n",
              "      <td>285.079987</td>\n",
              "      <td>285.829987</td>\n",
              "      <td>279.330994</td>\n",
              "      <td>280.049988</td>\n",
              "      <td>280.049988</td>\n",
              "      <td>22660547</td>\n",
              "    </tr>\n",
              "  </tbody>\n",
              "</table>\n",
              "<p>253 rows × 7 columns</p>\n",
              "</div>"
            ],
            "text/plain": [
              "           Date        Open        High  ...       Close   Adj Close    Volume\n",
              "0    2019-04-29  204.399994  205.970001  ...  204.610001  201.966461  22204700\n",
              "1    2019-04-30  203.059998  203.399994  ...  200.669998  198.077362  46534900\n",
              "2    2019-05-01  209.880005  215.309998  ...  210.520004  207.800110  64827300\n",
              "3    2019-05-02  209.839996  212.649994  ...  209.149994  206.447800  31996300\n",
              "4    2019-05-03  210.889999  211.839996  ...  211.750000  209.014221  20892400\n",
              "..          ...         ...         ...  ...         ...         ...       ...\n",
              "248  2020-04-22  273.609985  277.899994  ...  276.100006  276.100006  29264300\n",
              "249  2020-04-23  275.869995  281.750000  ...  275.029999  275.029999  31203600\n",
              "250  2020-04-24  277.200012  283.010010  ...  282.970001  282.970001  31627200\n",
              "251  2020-04-27  281.799988  284.540009  ...  283.170013  283.170013  29236400\n",
              "252  2020-04-28  285.079987  285.829987  ...  280.049988  280.049988  22660547\n",
              "\n",
              "[253 rows x 7 columns]"
            ]
          },
          "metadata": {
            "tags": []
          },
          "execution_count": 47
        }
      ]
    },
    {
      "cell_type": "code",
      "metadata": {
        "id": "mhLLDfbRvV9P",
        "colab_type": "code",
        "colab": {
          "base_uri": "https://localhost:8080/",
          "height": 166
        },
        "outputId": "d1c742da-e814-40d5-b61d-3081a529c105"
      },
      "source": [
        "AAPL1=pd.read_csv('AAPL.csv',index_col='Date',parse_dates=True)\n",
        "AAPL1.head(3)"
      ],
      "execution_count": null,
      "outputs": [
        {
          "output_type": "execute_result",
          "data": {
            "text/html": [
              "<div>\n",
              "<style scoped>\n",
              "    .dataframe tbody tr th:only-of-type {\n",
              "        vertical-align: middle;\n",
              "    }\n",
              "\n",
              "    .dataframe tbody tr th {\n",
              "        vertical-align: top;\n",
              "    }\n",
              "\n",
              "    .dataframe thead th {\n",
              "        text-align: right;\n",
              "    }\n",
              "</style>\n",
              "<table border=\"1\" class=\"dataframe\">\n",
              "  <thead>\n",
              "    <tr style=\"text-align: right;\">\n",
              "      <th></th>\n",
              "      <th>Open</th>\n",
              "      <th>High</th>\n",
              "      <th>Low</th>\n",
              "      <th>Close</th>\n",
              "      <th>Adj Close</th>\n",
              "      <th>Volume</th>\n",
              "    </tr>\n",
              "    <tr>\n",
              "      <th>Date</th>\n",
              "      <th></th>\n",
              "      <th></th>\n",
              "      <th></th>\n",
              "      <th></th>\n",
              "      <th></th>\n",
              "      <th></th>\n",
              "    </tr>\n",
              "  </thead>\n",
              "  <tbody>\n",
              "    <tr>\n",
              "      <th>2019-04-29</th>\n",
              "      <td>204.399994</td>\n",
              "      <td>205.970001</td>\n",
              "      <td>203.860001</td>\n",
              "      <td>204.610001</td>\n",
              "      <td>201.966461</td>\n",
              "      <td>22204700</td>\n",
              "    </tr>\n",
              "    <tr>\n",
              "      <th>2019-04-30</th>\n",
              "      <td>203.059998</td>\n",
              "      <td>203.399994</td>\n",
              "      <td>199.110001</td>\n",
              "      <td>200.669998</td>\n",
              "      <td>198.077362</td>\n",
              "      <td>46534900</td>\n",
              "    </tr>\n",
              "    <tr>\n",
              "      <th>2019-05-01</th>\n",
              "      <td>209.880005</td>\n",
              "      <td>215.309998</td>\n",
              "      <td>209.229996</td>\n",
              "      <td>210.520004</td>\n",
              "      <td>207.800110</td>\n",
              "      <td>64827300</td>\n",
              "    </tr>\n",
              "  </tbody>\n",
              "</table>\n",
              "</div>"
            ],
            "text/plain": [
              "                  Open        High  ...   Adj Close    Volume\n",
              "Date                                ...                      \n",
              "2019-04-29  204.399994  205.970001  ...  201.966461  22204700\n",
              "2019-04-30  203.059998  203.399994  ...  198.077362  46534900\n",
              "2019-05-01  209.880005  215.309998  ...  207.800110  64827300\n",
              "\n",
              "[3 rows x 6 columns]"
            ]
          },
          "metadata": {
            "tags": []
          },
          "execution_count": 49
        }
      ]
    },
    {
      "cell_type": "code",
      "metadata": {
        "id": "Tfow8myNv1Lq",
        "colab_type": "code",
        "colab": {
          "base_uri": "https://localhost:8080/",
          "height": 431
        },
        "outputId": "019b1c75-269b-453a-f616-516f2b2b1ff8"
      },
      "source": [
        "AAPL1"
      ],
      "execution_count": null,
      "outputs": [
        {
          "output_type": "execute_result",
          "data": {
            "text/html": [
              "<div>\n",
              "<style scoped>\n",
              "    .dataframe tbody tr th:only-of-type {\n",
              "        vertical-align: middle;\n",
              "    }\n",
              "\n",
              "    .dataframe tbody tr th {\n",
              "        vertical-align: top;\n",
              "    }\n",
              "\n",
              "    .dataframe thead th {\n",
              "        text-align: right;\n",
              "    }\n",
              "</style>\n",
              "<table border=\"1\" class=\"dataframe\">\n",
              "  <thead>\n",
              "    <tr style=\"text-align: right;\">\n",
              "      <th></th>\n",
              "      <th>Open</th>\n",
              "      <th>High</th>\n",
              "      <th>Low</th>\n",
              "      <th>Close</th>\n",
              "      <th>Adj Close</th>\n",
              "      <th>Volume</th>\n",
              "    </tr>\n",
              "    <tr>\n",
              "      <th>Date</th>\n",
              "      <th></th>\n",
              "      <th></th>\n",
              "      <th></th>\n",
              "      <th></th>\n",
              "      <th></th>\n",
              "      <th></th>\n",
              "    </tr>\n",
              "  </thead>\n",
              "  <tbody>\n",
              "    <tr>\n",
              "      <th>2019-04-29</th>\n",
              "      <td>204.399994</td>\n",
              "      <td>205.970001</td>\n",
              "      <td>203.860001</td>\n",
              "      <td>204.610001</td>\n",
              "      <td>201.966461</td>\n",
              "      <td>22204700</td>\n",
              "    </tr>\n",
              "    <tr>\n",
              "      <th>2019-04-30</th>\n",
              "      <td>203.059998</td>\n",
              "      <td>203.399994</td>\n",
              "      <td>199.110001</td>\n",
              "      <td>200.669998</td>\n",
              "      <td>198.077362</td>\n",
              "      <td>46534900</td>\n",
              "    </tr>\n",
              "    <tr>\n",
              "      <th>2019-05-01</th>\n",
              "      <td>209.880005</td>\n",
              "      <td>215.309998</td>\n",
              "      <td>209.229996</td>\n",
              "      <td>210.520004</td>\n",
              "      <td>207.800110</td>\n",
              "      <td>64827300</td>\n",
              "    </tr>\n",
              "    <tr>\n",
              "      <th>2019-05-02</th>\n",
              "      <td>209.839996</td>\n",
              "      <td>212.649994</td>\n",
              "      <td>208.130005</td>\n",
              "      <td>209.149994</td>\n",
              "      <td>206.447800</td>\n",
              "      <td>31996300</td>\n",
              "    </tr>\n",
              "    <tr>\n",
              "      <th>2019-05-03</th>\n",
              "      <td>210.889999</td>\n",
              "      <td>211.839996</td>\n",
              "      <td>210.229996</td>\n",
              "      <td>211.750000</td>\n",
              "      <td>209.014221</td>\n",
              "      <td>20892400</td>\n",
              "    </tr>\n",
              "    <tr>\n",
              "      <th>...</th>\n",
              "      <td>...</td>\n",
              "      <td>...</td>\n",
              "      <td>...</td>\n",
              "      <td>...</td>\n",
              "      <td>...</td>\n",
              "      <td>...</td>\n",
              "    </tr>\n",
              "    <tr>\n",
              "      <th>2020-04-22</th>\n",
              "      <td>273.609985</td>\n",
              "      <td>277.899994</td>\n",
              "      <td>272.200012</td>\n",
              "      <td>276.100006</td>\n",
              "      <td>276.100006</td>\n",
              "      <td>29264300</td>\n",
              "    </tr>\n",
              "    <tr>\n",
              "      <th>2020-04-23</th>\n",
              "      <td>275.869995</td>\n",
              "      <td>281.750000</td>\n",
              "      <td>274.869995</td>\n",
              "      <td>275.029999</td>\n",
              "      <td>275.029999</td>\n",
              "      <td>31203600</td>\n",
              "    </tr>\n",
              "    <tr>\n",
              "      <th>2020-04-24</th>\n",
              "      <td>277.200012</td>\n",
              "      <td>283.010010</td>\n",
              "      <td>277.000000</td>\n",
              "      <td>282.970001</td>\n",
              "      <td>282.970001</td>\n",
              "      <td>31627200</td>\n",
              "    </tr>\n",
              "    <tr>\n",
              "      <th>2020-04-27</th>\n",
              "      <td>281.799988</td>\n",
              "      <td>284.540009</td>\n",
              "      <td>279.950012</td>\n",
              "      <td>283.170013</td>\n",
              "      <td>283.170013</td>\n",
              "      <td>29236400</td>\n",
              "    </tr>\n",
              "    <tr>\n",
              "      <th>2020-04-28</th>\n",
              "      <td>285.079987</td>\n",
              "      <td>285.829987</td>\n",
              "      <td>279.330994</td>\n",
              "      <td>280.049988</td>\n",
              "      <td>280.049988</td>\n",
              "      <td>22660547</td>\n",
              "    </tr>\n",
              "  </tbody>\n",
              "</table>\n",
              "<p>253 rows × 6 columns</p>\n",
              "</div>"
            ],
            "text/plain": [
              "                  Open        High  ...   Adj Close    Volume\n",
              "Date                                ...                      \n",
              "2019-04-29  204.399994  205.970001  ...  201.966461  22204700\n",
              "2019-04-30  203.059998  203.399994  ...  198.077362  46534900\n",
              "2019-05-01  209.880005  215.309998  ...  207.800110  64827300\n",
              "2019-05-02  209.839996  212.649994  ...  206.447800  31996300\n",
              "2019-05-03  210.889999  211.839996  ...  209.014221  20892400\n",
              "...                ...         ...  ...         ...       ...\n",
              "2020-04-22  273.609985  277.899994  ...  276.100006  29264300\n",
              "2020-04-23  275.869995  281.750000  ...  275.029999  31203600\n",
              "2020-04-24  277.200012  283.010010  ...  282.970001  31627200\n",
              "2020-04-27  281.799988  284.540009  ...  283.170013  29236400\n",
              "2020-04-28  285.079987  285.829987  ...  280.049988  22660547\n",
              "\n",
              "[253 rows x 6 columns]"
            ]
          },
          "metadata": {
            "tags": []
          },
          "execution_count": 50
        }
      ]
    },
    {
      "cell_type": "code",
      "metadata": {
        "id": "y0AdYpC5v89B",
        "colab_type": "code",
        "colab": {
          "base_uri": "https://localhost:8080/",
          "height": 34
        },
        "outputId": "759497d1-5861-41ca-8538-584335bd2822"
      },
      "source": [
        "close_arr = AAPL1['Close'].values\n",
        "type(close_arr)"
      ],
      "execution_count": null,
      "outputs": [
        {
          "output_type": "execute_result",
          "data": {
            "text/plain": [
              "numpy.ndarray"
            ]
          },
          "metadata": {
            "tags": []
          },
          "execution_count": 52
        }
      ]
    },
    {
      "cell_type": "code",
      "metadata": {
        "id": "uS92uyZcwRSi",
        "colab_type": "code",
        "colab": {
          "base_uri": "https://localhost:8080/",
          "height": 282
        },
        "outputId": "55de17e1-7c6f-4bf4-8820-5b844b9a8ccd"
      },
      "source": [
        "plt.plot(close_arr)"
      ],
      "execution_count": null,
      "outputs": [
        {
          "output_type": "execute_result",
          "data": {
            "text/plain": [
              "[<matplotlib.lines.Line2D at 0x7fb90195e470>]"
            ]
          },
          "metadata": {
            "tags": []
          },
          "execution_count": 53
        },
        {
          "output_type": "display_data",
          "data": {
            "image/png": "[encoded data removed]",
            "text/plain": [
              "<Figure size 432x288 with 1 Axes>"
            ]
          },
          "metadata": {
            "tags": [],
            "needs_background": "light"
          }
        }
      ]
    },
    {
      "cell_type": "code",
      "metadata": {
        "id": "3KKJPVGqwZyv",
        "colab_type": "code",
        "colab": {}
      },
      "source": [
        "close_series=AAPL1['Close']"
      ],
      "execution_count": null,
      "outputs": []
    },
    {
      "cell_type": "code",
      "metadata": {
        "id": "qojydUJ0xaoy",
        "colab_type": "code",
        "colab": {
          "base_uri": "https://localhost:8080/",
          "height": 282
        },
        "outputId": "01fd61a3-c8d3-4871-f005-f62e4bb92e7b"
      },
      "source": [
        "plt.plot(close_series)"
      ],
      "execution_count": null,
      "outputs": [
        {
          "output_type": "execute_result",
          "data": {
            "text/plain": [
              "[<matplotlib.lines.Line2D at 0x7fb90195e9b0>]"
            ]
          },
          "metadata": {
            "tags": []
          },
          "execution_count": 55
        },
        {
          "output_type": "display_data",
          "data": {
            "image/png": "[encoded data removed]",
            "text/plain": [
              "<Figure size 432x288 with 1 Axes>"
            ]
          },
          "metadata": {
            "tags": [],
            "needs_background": "light"
          }
        }
      ]
    },
    {
      "cell_type": "code",
      "metadata": {
        "id": "YbDyR_K8xeZJ",
        "colab_type": "code",
        "colab": {
          "base_uri": "https://localhost:8080/",
          "height": 294
        },
        "outputId": "0d6d67a9-42c7-40df-e42f-99d2489e2aca"
      },
      "source": [
        "close_series.plot()"
      ],
      "execution_count": null,
      "outputs": [
        {
          "output_type": "execute_result",
          "data": {
            "text/plain": [
              "<matplotlib.axes._subplots.AxesSubplot at 0x7fb90140f908>"
            ]
          },
          "metadata": {
            "tags": []
          },
          "execution_count": 56
        },
        {
          "output_type": "display_data",
          "data": {
            "image/png": "[encoded data removed]",
            "text/plain": [
              "<Figure size 432x288 with 1 Axes>"
            ]
          },
          "metadata": {
            "tags": [],
            "needs_background": "light"
          }
        }
      ]
    },
    {
      "cell_type": "code",
      "metadata": {
        "id": "7AOV5wrBxxPO",
        "colab_type": "code",
        "colab": {
          "base_uri": "https://localhost:8080/",
          "height": 305
        },
        "outputId": "0915d608-6451-4767-f0ae-85bf3d893fc9"
      },
      "source": [
        "AAPL1.plot()"
      ],
      "execution_count": null,
      "outputs": [
        {
          "output_type": "execute_result",
          "data": {
            "text/plain": [
              "<matplotlib.axes._subplots.AxesSubplot at 0x7fb90139c550>"
            ]
          },
          "metadata": {
            "tags": []
          },
          "execution_count": 57
        },
        {
          "output_type": "display_data",
          "data": {
            "image/png": "[encoded data removed]",
            "text/plain": [
              "<Figure size 432x288 with 1 Axes>"
            ]
          },
          "metadata": {
            "tags": [],
            "needs_background": "light"
          }
        }
      ]
    },
    {
      "cell_type": "code",
      "metadata": {
        "id": "E-PhK_Rax7jB",
        "colab_type": "code",
        "colab": {
          "base_uri": "https://localhost:8080/",
          "height": 277
        },
        "outputId": "e48ed295-7576-4876-d5b6-8869c9cee978"
      },
      "source": [
        "AAPL1.plot()\n",
        "plt.yscale('log') # logarithmic scale on verticial axis\n",
        "plt.show()"
      ],
      "execution_count": null,
      "outputs": [
        {
          "output_type": "display_data",
          "data": {
            "image/png": "[encoded data removed]",
            "text/plain": [
              "<Figure size 432x288 with 1 Axes>"
            ]
          },
          "metadata": {
            "tags": [],
            "needs_background": "light"
          }
        }
      ]
    },
    {
      "cell_type": "code",
      "metadata": {
        "id": "SnEQUjdyzBr4",
        "colab_type": "code",
        "colab": {
          "base_uri": "https://localhost:8080/",
          "height": 218
        },
        "outputId": "d0884cd4-229f-408d-8dae-174c82efa5fc"
      },
      "source": [
        "sunspots.info()"
      ],
      "execution_count": null,
      "outputs": [
        {
          "output_type": "stream",
          "text": [
            "<class 'pandas.core.frame.DataFrame'>\n",
            "Int64Index: 72104 entries, 1818 to 2015\n",
            "Data columns (total 5 columns):\n",
            " #   Column    Non-Null Count  Dtype  \n",
            "---  ------    --------------  -----  \n",
            " 0   year      72104 non-null  int64  \n",
            " 1   month     72104 non-null  int64  \n",
            " 2   date      72104 non-null  float64\n",
            " 3   sunspots  68857 non-null  float64\n",
            " 4   definite  72104 non-null  int64  \n",
            "dtypes: float64(2), int64(3)\n",
            "memory usage: 3.3 MB\n"
          ],
          "name": "stdout"
        }
      ]
    },
    {
      "cell_type": "code",
      "metadata": {
        "id": "D-otYiYEz-Vn",
        "colab_type": "code",
        "colab": {
          "base_uri": "https://localhost:8080/",
          "height": 34
        },
        "outputId": "01d234ce-591c-4fbd-d9cb-1dc20a18dc3a"
      },
      "source": [
        "definite_arr = sunspots['sunspots'].values\n",
        "type(definite_arr)"
      ],
      "execution_count": null,
      "outputs": [
        {
          "output_type": "execute_result",
          "data": {
            "text/plain": [
              "numpy.ndarray"
            ]
          },
          "metadata": {
            "tags": []
          },
          "execution_count": 62
        }
      ]
    },
    {
      "cell_type": "code",
      "metadata": {
        "id": "_veoE7k10UMV",
        "colab_type": "code",
        "colab": {
          "base_uri": "https://localhost:8080/",
          "height": 282
        },
        "outputId": "ddb08714-76b5-4084-dbdb-3f374274cda6"
      },
      "source": [
        "plt.plot(definite_arr)"
      ],
      "execution_count": null,
      "outputs": [
        {
          "output_type": "execute_result",
          "data": {
            "text/plain": [
              "[<matplotlib.lines.Line2D at 0x7fb901098cc0>]"
            ]
          },
          "metadata": {
            "tags": []
          },
          "execution_count": 63
        },
        {
          "output_type": "display_data",
          "data": {
            "image/png": "[encoded data removed]",
            "text/plain": [
              "<Figure size 432x288 with 1 Axes>"
            ]
          },
          "metadata": {
            "tags": [],
            "needs_background": "light"
          }
        }
      ]
    },
    {
      "cell_type": "code",
      "metadata": {
        "id": "5nQJ0b190YHd",
        "colab_type": "code",
        "colab": {}
      },
      "source": [
        "close_series=sunspots['sunspots']"
      ],
      "execution_count": null,
      "outputs": []
    },
    {
      "cell_type": "code",
      "metadata": {
        "id": "blsRIRaa01IX",
        "colab_type": "code",
        "colab": {
          "base_uri": "https://localhost:8080/",
          "height": 282
        },
        "outputId": "e9689347-f56b-4490-fbc5-7740a4387649"
      },
      "source": [
        "close_series.plot()"
      ],
      "execution_count": null,
      "outputs": [
        {
          "output_type": "execute_result",
          "data": {
            "text/plain": [
              "<matplotlib.axes._subplots.AxesSubplot at 0x7fb9010601d0>"
            ]
          },
          "metadata": {
            "tags": []
          },
          "execution_count": 65
        },
        {
          "output_type": "display_data",
          "data": {
            "image/png": "[encoded data removed]",
            "text/plain": [
              "<Figure size 432x288 with 1 Axes>"
            ]
          },
          "metadata": {
            "tags": [],
            "needs_background": "light"
          }
        }
      ]
    },
    {
      "cell_type": "code",
      "metadata": {
        "id": "wio4_Yek07pn",
        "colab_type": "code",
        "colab": {}
      },
      "source": [
        ""
      ],
      "execution_count": null,
      "outputs": []
    }
  ]
}